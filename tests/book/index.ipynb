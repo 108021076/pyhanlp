{
 "cells": [
  {
   "cell_type": "markdown",
   "source": [
    "# 《自然语言处理入门》随书代码"
   ],
   "metadata": {
    "collapsed": false
   }
  },
  {
   "cell_type": "markdown",
   "source": [
    "## 第01章"
   ],
   "metadata": {
    "collapsed": false
   }
  },
  {
   "cell_type": "markdown",
   "source": [
    "### tests/book/ch01/hello_word.py"
   ],
   "metadata": {
    "collapsed": false
   }
  },
  {
   "cell_type": "code",
   "execution_count": null,
   "outputs": [],
   "source": [
    "# Author: hankcs\n",
    "# Date: 2019-03-21 21:22\n",
    "# 《自然语言处理入门》1.6 开源工具\n",
    "# 配套书籍：http://nlp.hankcs.com/book.php\n",
    "# 讨论答疑：https://bbs.hankcs.com/\n",
    "from pyhanlp import *\n",
    "\n",
    "\n",
    "def main():\n",
    "    HanLP.Config.enableDebug()\n",
    "    #  为了避免你等得无聊，开启调试模式说点什么:-)\n",
    "    print(HanLP.segment(\"王国维和服务员\"))\n",
    "\n",
    "\n",
    "if __name__ == '__main__':\n",
    "    main()"
   ],
   "metadata": {
    "collapsed": false,
    "pycharm": {
     "name": "#%%\n"
    }
   }
  },
  {
   "cell_type": "markdown",
   "source": [
    "## 第02章"
   ],
   "metadata": {
    "collapsed": false
   }
  },
  {
   "cell_type": "markdown",
   "source": [
    "### tests/book/ch02/evaluate_cws.py"
   ],
   "metadata": {
    "collapsed": false
   }
  },
  {
   "cell_type": "code",
   "execution_count": null,
   "outputs": [],
   "source": [
    "# Author：hankcs\n",
    "# Date: 2018-06-02 22:53\n",
    "# 《自然语言处理入门》2.9 准确率评测\n",
    "# 配套书籍：http://nlp.hankcs.com/book.php\n",
    "# 讨论答疑：https://bbs.hankcs.com/\n",
    "import re\n",
    "from pyhanlp import *\n",
    "from tests.test_utility import ensure_data\n",
    "\n",
    "\n",
    "def to_region(segmentation: str) -> list:\n",
    "    \"\"\"\n",
    "    将分词结果转换为区间\n",
    "    :param segmentation: 商品 和 服务\n",
    "    :return: [(0, 2), (2, 3), (3, 5)]\n",
    "    \"\"\"\n",
    "    region = []\n",
    "    start = 0\n",
    "    for word in re.compile(\"\\\\s+\").split(segmentation.strip()):\n",
    "        end = start + len(word)\n",
    "        region.append((start, end))\n",
    "        start = end\n",
    "    return region\n",
    "\n",
    "\n",
    "def prf(gold: str, pred: str, dic) -> tuple:\n",
    "    \"\"\"\n",
    "    计算P、R、F1\n",
    "    :param gold: 标准答案文件，比如“商品 和 服务”\n",
    "    :param pred: 分词结果文件，比如“商品 和服 务”\n",
    "    :param dic: 词典\n",
    "    :return: (P, R, F1, OOV_R, IV_R)\n",
    "    \"\"\"\n",
    "    A_size, B_size, A_cap_B_size, OOV, IV, OOV_R, IV_R = 0, 0, 0, 0, 0, 0, 0\n",
    "    with open(gold, encoding='utf-8') as gd, open(pred, encoding='utf-8') as pd:\n",
    "        for g, p in zip(gd, pd):\n",
    "            A, B = set(to_region(g)), set(to_region(p))\n",
    "            A_size += len(A)\n",
    "            B_size += len(B)\n",
    "            A_cap_B_size += len(A & B)\n",
    "            text = re.sub(\"\\\\s+\", \"\", g)\n",
    "            for (start, end) in A:\n",
    "                word = text[start: end]\n",
    "                if dic.containsKey(word):\n",
    "                    IV += 1\n",
    "                else:\n",
    "                    OOV += 1\n",
    "\n",
    "            for (start, end) in A & B:\n",
    "                word = text[start: end]\n",
    "                if dic.containsKey(word):\n",
    "                    IV_R += 1\n",
    "                else:\n",
    "                    OOV_R += 1\n",
    "    p, r = A_cap_B_size / B_size * 100, A_cap_B_size / A_size * 100\n",
    "    return p, r, 2 * p * r / (p + r), OOV_R / OOV * 100, IV_R / IV * 100\n",
    "\n",
    "\n",
    "if __name__ == '__main__':\n",
    "    print(to_region('商品 和 服务'))\n",
    "\n",
    "    sighan05 = ensure_data('icwb2-data', 'http://sighan.cs.uchicago.edu/bakeoff2005/data/icwb2-data.zip')\n",
    "    msr_dict = os.path.join(sighan05, 'gold', 'msr_training_words.utf8')\n",
    "    msr_test = os.path.join(sighan05, 'testing', 'msr_test.utf8')\n",
    "    msr_output = os.path.join(sighan05, 'testing', 'msr_output.txt')\n",
    "    msr_gold = os.path.join(sighan05, 'gold', 'msr_test_gold.utf8')\n",
    "\n",
    "    DoubleArrayTrieSegment = JClass('com.hankcs.hanlp.seg.Other.DoubleArrayTrieSegment')\n",
    "    segment = DoubleArrayTrieSegment([msr_dict]).enablePartOfSpeechTagging(True)\n",
    "    with open(msr_gold, encoding='utf-8') as test, open(msr_output, 'w', encoding='utf-8') as output:\n",
    "        for line in test:\n",
    "            output.write(\"  \".join(term.word for term in segment.seg(re.sub(\"\\\\s+\", \"\", line))))\n",
    "            output.write(\"\\n\")\n",
    "    print(\"P:%.2f R:%.2f F1:%.2f OOV-R:%.2f IV-R:%.2f\" % prf(msr_gold, msr_output, segment.trie))"
   ],
   "metadata": {
    "collapsed": false,
    "pycharm": {
     "name": "#%%\n"
    }
   }
  },
  {
   "cell_type": "markdown",
   "source": [
    "### tests/book/ch02/dat.py"
   ],
   "metadata": {
    "collapsed": false
   }
  },
  {
   "cell_type": "code",
   "execution_count": null,
   "outputs": [],
   "source": [
    "# Author：hankcs\n",
    "# Date: 2018-05-26 21:16\n",
    "# 《自然语言处理入门》2.5 双数组字典树\n",
    "# 配套书籍：http://nlp.hankcs.com/book.php\n",
    "# 讨论答疑：https://bbs.hankcs.com/\n",
    "\n",
    "from pyhanlp import *\n",
    "\n",
    "\n",
    "class DoubleArrayTrie(object):\n",
    "    def __init__(self, dic: dict) -> None:\n",
    "        m = JClass('java.util.TreeMap')()\n",
    "        for k, v in dic.items():\n",
    "            m[k] = v\n",
    "        DoubleArrayTrie = JClass('com.hankcs.hanlp.collection.trie.DoubleArrayTrie')\n",
    "        dat = DoubleArrayTrie(m)\n",
    "        self.base = dat.getBase()\n",
    "        self.check = dat.getCheck()\n",
    "        self.value = dat.getValueArray([''])\n",
    "\n",
    "    @staticmethod\n",
    "    def char_hash(c) -> int:\n",
    "        return JClass('java.lang.Character')(c).hashCode()\n",
    "\n",
    "    def transition(self, c, b) -> int:\n",
    "        \"\"\"\n",
    "        状态转移\n",
    "        :param c: 字符\n",
    "        :param b: 初始状态\n",
    "        :return: 转移后的状态，-1表示失败\n",
    "        \"\"\"\n",
    "        p = self.base[b] + self.char_hash(c) + 1\n",
    "        if self.base[b] == self.check[p]:\n",
    "            return p\n",
    "        else:\n",
    "            return -1\n",
    "\n",
    "    def __getitem__(self, key: str):\n",
    "        b = 0\n",
    "        for i in range(0, len(key)):  # len(key)次状态转移\n",
    "            p = self.transition(key[i], b)\n",
    "            if p is not -1:\n",
    "                b = p\n",
    "            else:\n",
    "                return None\n",
    "\n",
    "        p = self.base[b]  # 按字符'\\0'进行状态转移\n",
    "        n = self.base[p]  # 查询base\n",
    "        if p == self.check[p] and n < 0:  # 状态转移成功且对应词语结尾\n",
    "            index = -n - 1  # 取得字典序\n",
    "            return self.value[index]\n",
    "        return None\n",
    "\n",
    "\n",
    "if __name__ == '__main__':\n",
    "    dic = {'自然': 'nature', '自然人': 'human', '自然语言': 'language', '自语': 'talk\tto oneself', '入门': 'introduction'}\n",
    "    dat = DoubleArrayTrie(dic)\n",
    "    assert dat['自然'] == 'nature'\n",
    "    assert dat['自然语言'] == 'language'\n",
    "    assert dat['不存在'] is None\n",
    "    assert dat['自然\\0在'] is None"
   ],
   "metadata": {
    "collapsed": false,
    "pycharm": {
     "name": "#%%\n"
    }
   }
  },
  {
   "cell_type": "markdown",
   "source": [
    "### tests/book/ch02/bidirectional_segment.py"
   ],
   "metadata": {
    "collapsed": false
   }
  },
  {
   "cell_type": "code",
   "execution_count": null,
   "outputs": [],
   "source": [
    "# Author：hankcs\n",
    "# Date: 2018-05-24 21:23\n",
    "# 《自然语言处理入门》2.3.4 双向最长匹配\n",
    "# 配套书籍：http://nlp.hankcs.com/book.php\n",
    "# 讨论答疑：https://bbs.hankcs.com/\n",
    "from tests.book.ch02.backward_segment import backward_segment\n",
    "from tests.book.ch02.forward_segment import forward_segment\n",
    "from tests.book.ch02.utility import load_dictionary\n",
    "\n",
    "\n",
    "def count_single_char(word_list: list):  # 统计单字成词的个数\n",
    "    return sum(1 for word in word_list if len(word) == 1)\n",
    "\n",
    "\n",
    "def bidirectional_segment(text, dic):\n",
    "    f = forward_segment(text, dic)\n",
    "    b = backward_segment(text, dic)\n",
    "    if len(f) < len(b):                                  # 词数更少优先级更高\n",
    "        return f\n",
    "    elif len(f) > len(b):\n",
    "        return b\n",
    "    else:\n",
    "        if count_single_char(f) < count_single_char(b):  # 单字更少优先级更高\n",
    "            return f\n",
    "        else:\n",
    "            return b                                     # 都相等时逆向匹配优先级更高\n",
    "\n",
    "\n",
    "if __name__ == '__main__':\n",
    "    dic = load_dictionary()\n",
    "\n",
    "    print(bidirectional_segment('研究生命起源', dic))"
   ],
   "metadata": {
    "collapsed": false,
    "pycharm": {
     "name": "#%%\n"
    }
   }
  },
  {
   "cell_type": "markdown",
   "source": [
    "### tests/book/ch02/utility.py"
   ],
   "metadata": {
    "collapsed": false
   }
  },
  {
   "cell_type": "code",
   "execution_count": null,
   "outputs": [],
   "source": [
    "# Author：hankcs\n",
    "# Date: 2018-05-24 22:11\n",
    "# 《自然语言处理入门》2.2.2 词典的加载\n",
    "# 配套书籍：http://nlp.hankcs.com/book.php\n",
    "# 讨论答疑：https://bbs.hankcs.com/\n",
    "from pyhanlp import *\n",
    "\n",
    "\n",
    "def load_dictionary():\n",
    "    \"\"\"\n",
    "    加载HanLP中的mini词库\n",
    "    :return: 一个set形式的词库\n",
    "    \"\"\"\n",
    "    IOUtil = JClass('com.hankcs.hanlp.corpus.io.IOUtil')\n",
    "    path = HanLP.Config.CoreDictionaryPath.replace('.txt', '.mini.txt')\n",
    "    dic = IOUtil.loadDictionary([path])\n",
    "    return set(dic.keySet())\n",
    "\n",
    "\n",
    "if __name__ == '__main__':\n",
    "    dic = load_dictionary()\n",
    "    print(len(dic))\n",
    "    print(list(dic)[0])"
   ],
   "metadata": {
    "collapsed": false,
    "pycharm": {
     "name": "#%%\n"
    }
   }
  },
  {
   "cell_type": "markdown",
   "source": [
    "### tests/book/ch02/aho_corasick_double_array_trie.py"
   ],
   "metadata": {
    "collapsed": false
   }
  },
  {
   "cell_type": "code",
   "execution_count": null,
   "outputs": [],
   "source": [
    "# Author：hankcs\n",
    "# Date: 2018-05-28 18:10\n",
    "# 《自然语言处理入门》2.7 基于双数组字典树的 AC 自动机\n",
    "# 配套书籍：http://nlp.hankcs.com/book.php\n",
    "# 讨论答疑：https://bbs.hankcs.com/\n",
    "\n",
    "from pyhanlp import *\n",
    "\n",
    "\n",
    "def classic_demo():\n",
    "    words = [\"hers\", \"his\", \"she\", \"he\"]\n",
    "    map = JClass('java.util.TreeMap')()     # 创建TreeMap实例\n",
    "    for word in words:\n",
    "        map[word] = word.upper()            # 存放键值对\n",
    "    trie = JClass('com.hankcs.hanlp.collection.AhoCorasick.AhoCorasickDoubleArrayTrie')(map)\n",
    "    for hit in trie.parseText(\"ushers\"):    # 遍历查询结果\n",
    "        print(\"[%d:%d]=%s\" % (hit.begin, hit.end, hit.value))\n",
    "\n",
    "\n",
    "if __name__ == '__main__':\n",
    "    classic_demo()"
   ],
   "metadata": {
    "collapsed": false,
    "pycharm": {
     "name": "#%%\n"
    }
   }
  },
  {
   "cell_type": "markdown",
   "source": [
    "### tests/book/ch02/zipf_law.py"
   ],
   "metadata": {
    "collapsed": false
   }
  },
  {
   "cell_type": "code",
   "execution_count": null,
   "outputs": [],
   "source": [
    "# Author：hankcs\n",
    "# Date: 2018-06-01 09:53\n",
    "# 《自然语言处理入门》2.1.2 词的性质——齐夫定律\n",
    "# 配套书籍：http://nlp.hankcs.com/book.php\n",
    "# 讨论答疑：https://bbs.hankcs.com/\n",
    "import os\n",
    "from collections import Counter\n",
    "\n",
    "import numpy as np\n",
    "\n",
    "from tests.test_utility import ensure_data\n",
    "\n",
    "sighan05 = ensure_data('icwb2-data', 'http://sighan.cs.uchicago.edu/bakeoff2005/data/icwb2-data.zip')\n",
    "msr = os.path.join(sighan05, 'training', 'msr_training.utf8')\n",
    "\n",
    "f = Counter()\n",
    "with open(msr, encoding='utf-8') as src:\n",
    "    for line in src:\n",
    "        line = line.strip()\n",
    "        for word in line.split('  '):\n",
    "            # word = word.strip()\n",
    "            # if len(word) < 2: continue\n",
    "            f[word] += 1\n",
    "\n",
    "\n",
    "def plot(token_counts, title='MSR语料库词频统计', ylabel='词频'):\n",
    "    from matplotlib import pyplot as plt\n",
    "    plt.rcParams['font.sans-serif'] = ['SimHei']  # 用来正常显示中文标签\n",
    "    plt.rcParams['axes.unicode_minus'] = False  # 用来正常显示负号\n",
    "    fig = plt.figure(\n",
    "        # figsize=(8, 6)\n",
    "    )\n",
    "    ax = fig.add_subplot(111)\n",
    "    token_counts = list(zip(*token_counts))\n",
    "    num_elements = np.arange(len(token_counts[0]))\n",
    "    top_offset = max(token_counts[1]) + len(str(max(token_counts[1])))\n",
    "    ax.set_title(title)\n",
    "    ax.set_xlabel('词语')\n",
    "    ax.set_ylabel(ylabel)\n",
    "    ax.xaxis.set_label_coords(1.05, 0.015)\n",
    "    ax.set_xticks(num_elements)\n",
    "    ax.set_xticklabels(token_counts[0], rotation=55, verticalalignment='top')\n",
    "    ax.set_ylim([0, top_offset])\n",
    "    ax.set_xlim([-1, len(token_counts[0])])\n",
    "    rects = ax.plot(num_elements, token_counts[1], linewidth=1.5)\n",
    "    plt.show()\n",
    "\n",
    "\n",
    "word_freq = f.most_common(30)\n",
    "print(word_freq)\n",
    "plot(word_freq)\n",
    "# log_word_freq = []\n",
    "# for w, f in word_freq:\n",
    "#     log_word_freq.append((w, np.log(f)))\n",
    "# plot(log_word_freq, ylabel='词频的对数')"
   ],
   "metadata": {
    "collapsed": false,
    "pycharm": {
     "name": "#%%\n"
    }
   }
  },
  {
   "cell_type": "markdown",
   "source": [
    "### tests/book/ch02/demo_dat_segment.py"
   ],
   "metadata": {
    "collapsed": false
   }
  },
  {
   "cell_type": "code",
   "execution_count": null,
   "outputs": [],
   "source": [
    "# Author：hankcs\n",
    "# Date: 2018-05-29 09:48\n",
    "# 《自然语言处理入门》2.8 HanLP 的词典分词实现\n",
    "# 配套书籍：http://nlp.hankcs.com/book.php\n",
    "# 讨论答疑：https://bbs.hankcs.com/\n",
    "\n",
    "from pyhanlp import *\n",
    "from pyhanlp.static import HANLP_DATA_PATH\n",
    "\n",
    "HanLP.Config.ShowTermNature = False\n",
    "segment = DoubleArrayTrieSegment()\n",
    "print(segment.seg('江西鄱阳湖干枯，中国最大淡水湖变成大草原'))\n",
    "\n",
    "dict1 = HANLP_DATA_PATH + \"/dictionary/CoreNatureDictionary.mini.txt\"\n",
    "dict2 = HANLP_DATA_PATH + \"/dictionary/custom/上海地名.txt ns\"\n",
    "segment = DoubleArrayTrieSegment([dict1, dict2])\n",
    "print(segment.seg('上海市虹口区大连西路550号SISU'))\n",
    "\n",
    "segment.enablePartOfSpeechTagging(True)\n",
    "HanLP.Config.ShowTermNature = True\n",
    "print(segment.seg('上海市虹口区大连西路550号SISU'))\n",
    "\n",
    "for term in segment.seg('上海市虹口区大连西路550号SISU'):\n",
    "    print(\"单词:%s 词性:%s\" % (term.word, term.nature))"
   ],
   "metadata": {
    "collapsed": false,
    "pycharm": {
     "name": "#%%\n"
    }
   }
  },
  {
   "cell_type": "markdown",
   "source": [
    "### tests/book/ch02/backward_segment.py"
   ],
   "metadata": {
    "collapsed": false
   }
  },
  {
   "cell_type": "code",
   "execution_count": null,
   "outputs": [],
   "source": [
    "# Author：hankcs\n",
    "# Date: 2018-05-22 21:05\n",
    "# 《自然语言处理入门》2.3.3 逆向最长匹配\n",
    "# 配套书籍：http://nlp.hankcs.com/book.php\n",
    "# 讨论答疑：https://bbs.hankcs.com/\n",
    "from tests.book.ch02.utility import load_dictionary\n",
    "\n",
    "\n",
    "def backward_segment(text, dic):\n",
    "    word_list = []\n",
    "    i = len(text) - 1\n",
    "    while i >= 0:                                   # 扫描位置作为终点\n",
    "        longest_word = text[i]                      # 扫描位置的单字\n",
    "        for j in range(0, i):                       # 遍历[0, i]区间作为待查询词语的起点\n",
    "            word = text[j: i + 1]                   # 取出[j, i]区间作为待查询单词\n",
    "            if word in dic:\n",
    "                if len(word) > len(longest_word):   # 越长优先级越高\n",
    "                    longest_word = word\n",
    "                    break\n",
    "        word_list.insert(0, longest_word)           # 逆向扫描，所以越先查出的单词在位置上越靠后\n",
    "        i -= len(longest_word)\n",
    "    return word_list\n",
    "\n",
    "\n",
    "if __name__ == '__main__':\n",
    "    dic = load_dictionary()\n",
    "\n",
    "    print(backward_segment('研究生命起源', dic))"
   ],
   "metadata": {
    "collapsed": false,
    "pycharm": {
     "name": "#%%\n"
    }
   }
  },
  {
   "cell_type": "markdown",
   "source": [
    "### tests/book/ch02/speed_benchmark.py"
   ],
   "metadata": {
    "collapsed": false
   }
  },
  {
   "cell_type": "code",
   "execution_count": null,
   "outputs": [],
   "source": [
    "# Author：hankcs\n",
    "# Date: 2018-05-25 10:21\n",
    "# 《自然语言处理入门》2.3.5 速度评测\n",
    "# 配套书籍：http://nlp.hankcs.com/book.php\n",
    "# 讨论答疑：https://bbs.hankcs.com/\n",
    "import time\n",
    "\n",
    "from tests.book.ch02.backward_segment import backward_segment\n",
    "from tests.book.ch02.bidirectional_segment import bidirectional_segment\n",
    "from tests.book.ch02.forward_segment import forward_segment\n",
    "from tests.book.ch02.utility import load_dictionary\n",
    "\n",
    "\n",
    "def evaluate_speed(segment, text, dic):\n",
    "    start_time = time.time()\n",
    "    for i in range(pressure):\n",
    "        segment(text, dic)\n",
    "    elapsed_time = time.time() - start_time\n",
    "    print('%.2f 万字/秒' % (len(text) * pressure / 10000 / elapsed_time))\n",
    "\n",
    "\n",
    "if __name__ == '__main__':\n",
    "    text = \"江西鄱阳湖干枯，中国最大淡水湖变成大草原\"\n",
    "    pressure = 10000\n",
    "    dic = load_dictionary()\n",
    "\n",
    "    print('由于JPype调用开销巨大，以下速度显著慢于原生Java')\n",
    "    evaluate_speed(forward_segment, text, dic)\n",
    "    evaluate_speed(backward_segment, text, dic)\n",
    "    evaluate_speed(bidirectional_segment, text, dic)"
   ],
   "metadata": {
    "collapsed": false,
    "pycharm": {
     "name": "#%%\n"
    }
   }
  },
  {
   "cell_type": "markdown",
   "source": [
    "### tests/book/ch02/aho_corasick.py"
   ],
   "metadata": {
    "collapsed": false
   }
  },
  {
   "cell_type": "code",
   "execution_count": null,
   "outputs": [],
   "source": [
    "# Author：hankcs\n",
    "# Date: 2018-05-28 15:22\n",
    "# 《自然语言处理入门》2.6 AC 自动机\n",
    "# 配套书籍：http://nlp.hankcs.com/book.php\n",
    "# 讨论答疑：https://bbs.hankcs.com/\n",
    "from pyhanlp import *\n",
    "\n",
    "\n",
    "def classic_demo():\n",
    "    words = [\"hers\", \"his\", \"she\", \"he\"]\n",
    "    Trie = JClass('com.hankcs.hanlp.algorithm.ahocorasick.trie.Trie')\n",
    "    trie = Trie()\n",
    "    for w in words:\n",
    "        trie.addKeyword(w)\n",
    "\n",
    "    for emit in trie.parseText(\"ushers\"):\n",
    "        print(\"[%d:%d]=%s\" % (emit.getStart(), emit.getEnd(), emit.getKeyword()))\n",
    "\n",
    "\n",
    "if __name__ == '__main__':\n",
    "    classic_demo()"
   ],
   "metadata": {
    "collapsed": false,
    "pycharm": {
     "name": "#%%\n"
    }
   }
  },
  {
   "cell_type": "markdown",
   "source": [
    "### tests/book/ch02/fully_segment.py"
   ],
   "metadata": {
    "collapsed": false
   }
  },
  {
   "cell_type": "code",
   "execution_count": null,
   "outputs": [],
   "source": [
    "# Author：hankcs\n",
    "# Date: 2018-05-22 21:05\n",
    "# 《自然语言处理入门》2.3.1 完全切分\n",
    "# 配套书籍：http://nlp.hankcs.com/book.php\n",
    "# 讨论答疑：https://bbs.hankcs.com/\n",
    "from tests.book.ch02.utility import load_dictionary\n",
    "\n",
    "\n",
    "def fully_segment(text, dic):\n",
    "    word_list = []\n",
    "    for i in range(len(text)):                  # i 从 0 到text的最后一个字的下标遍历\n",
    "        for j in range(i + 1, len(text) + 1):   # j 遍历[i + 1, len(text)]区间\n",
    "            word = text[i:j]                    # 取出连续区间[i, j]对应的字符串\n",
    "            if word in dic:                     # 如果在词典中，则认为是一个词\n",
    "                word_list.append(word)\n",
    "    return word_list\n",
    "\n",
    "\n",
    "if __name__ == '__main__':\n",
    "    dic = load_dictionary()\n",
    "\n",
    "    print(fully_segment('商品和服务', dic))"
   ],
   "metadata": {
    "collapsed": false,
    "pycharm": {
     "name": "#%%\n"
    }
   }
  },
  {
   "cell_type": "markdown",
   "source": [
    "### tests/book/ch02/trie.py"
   ],
   "metadata": {
    "collapsed": false
   }
  },
  {
   "cell_type": "code",
   "execution_count": null,
   "outputs": [],
   "source": [
    "# Author：hankcs\n",
    "# Date: 2018-05-25 17:25\n",
    "# 《自然语言处理入门》2.4 字典树\n",
    "# 配套书籍：http://nlp.hankcs.com/book.php\n",
    "# 讨论答疑：https://bbs.hankcs.com/\n",
    "\n",
    "class Node(object):\n",
    "    def __init__(self, value) -> None:\n",
    "        self._children = {}\n",
    "        self._value = value\n",
    "\n",
    "    def _add_child(self, char, value, overwrite=False):\n",
    "        child = self._children.get(char)\n",
    "        if child is None:\n",
    "            child = Node(value)\n",
    "            self._children[char] = child\n",
    "        elif overwrite:\n",
    "            child._value = value\n",
    "        return child\n",
    "\n",
    "\n",
    "class Trie(Node):\n",
    "    def __init__(self) -> None:\n",
    "        super().__init__(None)\n",
    "\n",
    "    def __contains__(self, key):\n",
    "        return self[key] is not None\n",
    "\n",
    "    def __getitem__(self, key):\n",
    "        state = self\n",
    "        for char in key:\n",
    "            state = state._children.get(char)\n",
    "            if state is None:\n",
    "                return None\n",
    "        return state._value\n",
    "\n",
    "    def __setitem__(self, key, value):\n",
    "        state = self\n",
    "        for i, char in enumerate(key):\n",
    "            if i < len(key) - 1:\n",
    "                state = state._add_child(char, None, False)\n",
    "            else:\n",
    "                state = state._add_child(char, value, True)\n",
    "\n",
    "\n",
    "if __name__ == '__main__':\n",
    "    trie = Trie()\n",
    "    # 增\n",
    "    trie['自然'] = 'nature'\n",
    "    trie['自然人'] = 'human'\n",
    "    trie['自然语言'] = 'language'\n",
    "    trie['自语'] = 'talk\tto oneself'\n",
    "    trie['入门'] = 'introduction'\n",
    "    assert '自然' in trie\n",
    "    # 删\n",
    "    trie['自然'] = None\n",
    "    assert '自然' not in trie\n",
    "    # 改\n",
    "    trie['自然语言'] = 'human language'\n",
    "    assert trie['自然语言'] == 'human language'\n",
    "    # 查\n",
    "    assert trie['入门'] == 'introduction'"
   ],
   "metadata": {
    "collapsed": false,
    "pycharm": {
     "name": "#%%\n"
    }
   }
  },
  {
   "cell_type": "markdown",
   "source": [
    "### tests/book/ch02/forward_segment.py"
   ],
   "metadata": {
    "collapsed": false
   }
  },
  {
   "cell_type": "code",
   "execution_count": null,
   "outputs": [],
   "source": [
    "# Author：hankcs\n",
    "# Date: 2018-05-22 21:05\n",
    "# 《自然语言处理入门》2.3.2 正向最长匹配\n",
    "# 配套书籍：http://nlp.hankcs.com/book.php\n",
    "# 讨论答疑：https://bbs.hankcs.com/\n",
    "from tests.book.ch02.utility import load_dictionary\n",
    "\n",
    "\n",
    "def forward_segment(text, dic):\n",
    "    word_list = []\n",
    "    i = 0\n",
    "    while i < len(text):\n",
    "        longest_word = text[i]                      # 当前扫描位置的单字\n",
    "        for j in range(i + 1, len(text) + 1):       # 所有可能的结尾\n",
    "            word = text[i:j]                        # 从当前位置到结尾的连续字符串\n",
    "            if word in dic:                         # 在词典中\n",
    "                if len(word) > len(longest_word):   # 并且更长\n",
    "                    longest_word = word             # 则更优先输出\n",
    "        word_list.append(longest_word)              # 输出最长词\n",
    "        i += len(longest_word)                      # 正向扫描\n",
    "    return word_list\n",
    "\n",
    "\n",
    "if __name__ == '__main__':\n",
    "    dic = load_dictionary()\n",
    "\n",
    "    print(forward_segment('就读北京大学', dic))\n",
    "    print(forward_segment('研究生命起源', dic))"
   ],
   "metadata": {
    "collapsed": false,
    "pycharm": {
     "name": "#%%\n"
    }
   }
  },
  {
   "cell_type": "markdown",
   "source": [
    "### tests/book/ch02/demo_acdat_segment.py"
   ],
   "metadata": {
    "collapsed": false
   }
  },
  {
   "cell_type": "code",
   "execution_count": null,
   "outputs": [],
   "source": [
    "# Author：hankcs\n",
    "# Date: 2018-05-29 13:51\n",
    "# 《自然语言处理入门》2.8 HanLP 的词典分词实现\n",
    "# 配套书籍：http://nlp.hankcs.com/book.php\n",
    "# 讨论答疑：https://bbs.hankcs.com/\n",
    "\n",
    "from pyhanlp import *\n",
    "\n",
    "HanLP.Config.ShowTermNature = False\n",
    "segment = JClass('com.hankcs.hanlp.seg.Other.AhoCorasickDoubleArrayTrieSegment')(HanLP.Config.CoreDictionaryPath)\n",
    "print(segment.seg(\"江西鄱阳湖干枯，中国最大淡水湖变成大草原\"))"
   ],
   "metadata": {
    "collapsed": false,
    "pycharm": {
     "name": "#%%\n"
    }
   }
  },
  {
   "cell_type": "markdown",
   "source": [
    "### tests/book/ch02/demo_stopwords.py"
   ],
   "metadata": {
    "collapsed": false
   }
  },
  {
   "cell_type": "code",
   "execution_count": null,
   "outputs": [],
   "source": [
    "# Author：hankcs\n",
    "# Date: 2018-06-04 11:17\n",
    "# 《自然语言处理入门》2.10.1 停用词过滤\n",
    "# 配套书籍：http://nlp.hankcs.com/book.php\n",
    "# 讨论答疑：https://bbs.hankcs.com/\n",
    "from jpype import JString\n",
    "\n",
    "from pyhanlp import *\n",
    "\n",
    "\n",
    "def load_from_file(path):\n",
    "    \"\"\"\n",
    "    从词典文件加载DoubleArrayTrie\n",
    "    :param path: 词典路径\n",
    "    :return: 双数组trie树\n",
    "    \"\"\"\n",
    "    map = JClass('java.util.TreeMap')()  # 创建TreeMap实例\n",
    "    with open(path, encoding='utf-8') as src:\n",
    "        for word in src:\n",
    "            word = word.strip()  # 去掉Python读入的\\n\n",
    "            map[word] = word\n",
    "    return JClass('com.hankcs.hanlp.collection.trie.DoubleArrayTrie')(map)\n",
    "\n",
    "\n",
    "def load_from_words(*words):\n",
    "    \"\"\"\n",
    "    从词汇构造双数组trie树\n",
    "    :param words: 一系列词语\n",
    "    :return:\n",
    "    \"\"\"\n",
    "    map = JClass('java.util.TreeMap')()  # 创建TreeMap实例\n",
    "    for word in words:\n",
    "        map[word] = word\n",
    "    return JClass('com.hankcs.hanlp.collection.trie.DoubleArrayTrie')(map)\n",
    "\n",
    "\n",
    "def remove_stopwords_termlist(termlist, trie):\n",
    "    return [term.word for term in termlist if not trie.containsKey(term.word)]\n",
    "\n",
    "\n",
    "def replace_stropwords_text(text, replacement, trie):\n",
    "    searcher = trie.getLongestSearcher(JString(text), 0)\n",
    "    offset = 0\n",
    "    result = ''\n",
    "    while searcher.next():\n",
    "        begin = searcher.begin\n",
    "        end = begin + searcher.length\n",
    "        if begin > offset:\n",
    "            result += text[offset: begin]\n",
    "        result += replacement\n",
    "        offset = end\n",
    "    if offset < len(text):\n",
    "        result += text[offset:]\n",
    "    return result\n",
    "\n",
    "\n",
    "if __name__ == '__main__':\n",
    "    HanLP.Config.ShowTermNature = False\n",
    "    trie = load_from_file(HanLP.Config.CoreStopWordDictionaryPath)\n",
    "    text = \"停用词的意义相对而言无关紧要吧。\"\n",
    "    segment = DoubleArrayTrieSegment()\n",
    "    termlist = segment.seg(text)\n",
    "    print(\"分词结果：\", termlist)\n",
    "    print(\"分词结果去除停用词：\", remove_stopwords_termlist(termlist, trie))\n",
    "    trie = load_from_words(\"的\", \"相对而言\", \"吧\")\n",
    "    print(\"不分词去掉停用词\", replace_stropwords_text(text, \"**\", trie))"
   ],
   "metadata": {
    "collapsed": false,
    "pycharm": {
     "name": "#%%\n"
    }
   }
  },
  {
   "cell_type": "markdown",
   "source": [
    "## 第03章"
   ],
   "metadata": {
    "collapsed": false
   }
  },
  {
   "cell_type": "markdown",
   "source": [
    "### tests/book/ch03/japanese_segment.py"
   ],
   "metadata": {
    "collapsed": false
   }
  },
  {
   "cell_type": "code",
   "execution_count": null,
   "outputs": [],
   "source": [
    "# Author：hankcs\n",
    "# Date: 2018-06-07 18:37\n",
    "# 《自然语言处理入门》3.6.1 日语分词语料\n",
    "# 配套书籍：http://nlp.hankcs.com/book.php\n",
    "# 讨论答疑：https://bbs.hankcs.com/\n",
    "import os\n",
    "\n",
    "from tests.book.ch03.ngram_segment import train_bigram, load_bigram\n",
    "from tests.test_utility import ensure_data\n",
    "\n",
    "jp_corpus = ensure_data('jpcorpus',\n",
    "                        'http://file.hankcs.com/corpus/jpcorpus.zip')\n",
    "jp_bigram = os.path.join(jp_corpus, 'jp_bigram')\n",
    "jp_corpus = os.path.join(jp_corpus, 'ja_gsd-ud-train.txt')\n",
    "\n",
    "if __name__ == '__main__':\n",
    "    train_bigram(jp_corpus, jp_bigram)  # 训练\n",
    "    segment = load_bigram(jp_bigram, verbose=False)  # 加载\n",
    "    print(segment.seg('自然言語処理入門という本が面白いぞ！'))  # 日语分词"
   ],
   "metadata": {
    "collapsed": false,
    "pycharm": {
     "name": "#%%\n"
    }
   }
  },
  {
   "cell_type": "markdown",
   "source": [
    "### tests/book/ch03/adjust_model.py"
   ],
   "metadata": {
    "collapsed": false
   }
  },
  {
   "cell_type": "code",
   "execution_count": null,
   "outputs": [],
   "source": [
    "# Author：hankcs\n",
    "# Date: 2018-06-08 15:34\n",
    "# 《自然语言处理入门》3.5.3 调整模型\n",
    "# 配套书籍：http://nlp.hankcs.com/book.php\n",
    "# 讨论答疑：https://bbs.hankcs.com/\n",
    "from pyhanlp import HanLP\n",
    "from tests.book.ch03.msr import msr_model\n",
    "from tests.book.ch03.ngram_segment import load_bigram, CoreDictionary\n",
    "\n",
    "segment = load_bigram(model_path=msr_model, verbose=False, ret_viterbi=False)\n",
    "assert CoreDictionary.contains(\"管道\")\n",
    "text = \"北京输气管道工程\"\n",
    "HanLP.Config.enableDebug()\n",
    "print(segment.seg(text))"
   ],
   "metadata": {
    "collapsed": false,
    "pycharm": {
     "name": "#%%\n"
    }
   }
  },
  {
   "cell_type": "markdown",
   "source": [
    "### tests/book/ch03/ngram_segment.py"
   ],
   "metadata": {
    "collapsed": false
   }
  },
  {
   "cell_type": "code",
   "execution_count": null,
   "outputs": [],
   "source": [
    "# Author：hankcs\n",
    "# Date: 2018-06-06 13:19\n",
    "# 《自然语言处理入门》3.3 训练\n",
    "# 配套书籍：http://nlp.hankcs.com/book.php\n",
    "# 讨论答疑：https://bbs.hankcs.com/\n",
    "from jpype import JString\n",
    "\n",
    "from pyhanlp import *\n",
    "from tests.book.ch03.demo_corpus_loader import my_cws_corpus\n",
    "from tests.book.ch03.msr import msr_model\n",
    "from tests.test_utility import test_data_path\n",
    "\n",
    "NatureDictionaryMaker = SafeJClass('com.hankcs.hanlp.corpus.dictionary.NatureDictionaryMaker')\n",
    "CorpusLoader = SafeJClass('com.hankcs.hanlp.corpus.document.CorpusLoader')\n",
    "WordNet = JClass('com.hankcs.hanlp.seg.common.WordNet')\n",
    "Vertex = JClass('com.hankcs.hanlp.seg.common.Vertex')\n",
    "ViterbiSegment = JClass('com.hankcs.hanlp.seg.Viterbi.ViterbiSegment')\n",
    "DijkstraSegment = JClass('com.hankcs.hanlp.seg.Dijkstra.DijkstraSegment')\n",
    "CoreDictionary = LazyLoadingJClass('com.hankcs.hanlp.dictionary.CoreDictionary')\n",
    "Nature = JClass('com.hankcs.hanlp.corpus.tag.Nature')\n",
    "\n",
    "\n",
    "def train_bigram(corpus_path, model_path):\n",
    "    sents = CorpusLoader.convert2SentenceList(corpus_path)\n",
    "    for sent in sents:\n",
    "        for word in sent:\n",
    "            if word.label is None:\n",
    "                word.setLabel(\"n\")\n",
    "    maker = NatureDictionaryMaker()\n",
    "    maker.compute(sents)\n",
    "    maker.saveTxtTo(model_path)  # tests/data/my_cws_model.txt\n",
    "\n",
    "\n",
    "def load_bigram(model_path, verbose=True, ret_viterbi=True):\n",
    "    HanLP.Config.CoreDictionaryPath = model_path + \".txt\"  # unigram\n",
    "    HanLP.Config.BiGramDictionaryPath = model_path + \".ngram.txt\"  # bigram\n",
    "    # 以下部分为兼容新标注集，不感兴趣可以跳过\n",
    "    HanLP.Config.CoreDictionaryTransformMatrixDictionaryPath = model_path + \".tr.txt\"  # 词性转移矩阵，分词时可忽略\n",
    "    if model_path != msr_model:\n",
    "        with open(HanLP.Config.CoreDictionaryTransformMatrixDictionaryPath, encoding='utf-8') as src:\n",
    "            for tag in src.readline().strip().split(',')[1:]:\n",
    "                Nature.create(tag)\n",
    "    CoreBiGramTableDictionary = SafeJClass('com.hankcs.hanlp.dictionary.CoreBiGramTableDictionary')\n",
    "    CoreDictionary.getTermFrequency(\"商品\")\n",
    "    # 兼容代码结束\n",
    "    if verbose:\n",
    "        print(CoreDictionary.getTermFrequency(\"商品\"))\n",
    "        print(CoreBiGramTableDictionary.getBiFrequency(\"商品\", \"和\"))\n",
    "        sent = '商品和服务'\n",
    "        # sent = '货币和服务'\n",
    "        wordnet = generate_wordnet(sent, CoreDictionary.trie)\n",
    "        print(wordnet)\n",
    "        print(viterbi(wordnet))\n",
    "    return ViterbiSegment().enableAllNamedEntityRecognize(False).enableCustomDictionary(\n",
    "        False) if ret_viterbi else DijkstraSegment().enableAllNamedEntityRecognize(False).enableCustomDictionary(False)\n",
    "\n",
    "\n",
    "def generate_wordnet(sent, trie):\n",
    "    \"\"\"\n",
    "    生成词网\n",
    "    :param sent: 句子\n",
    "    :param trie: 词典（unigram）\n",
    "    :return: 词网\n",
    "    \"\"\"\n",
    "    searcher = trie.getSearcher(JString(sent), 0)\n",
    "    wordnet = WordNet(sent)\n",
    "    while searcher.next():\n",
    "        wordnet.add(searcher.begin + 1,\n",
    "                    Vertex(sent[searcher.begin:searcher.begin + searcher.length], searcher.value, searcher.index))\n",
    "    # 原子分词，保证图连通\n",
    "    vertexes = wordnet.getVertexes()\n",
    "    i = 0\n",
    "    while i < len(vertexes):\n",
    "        if len(vertexes[i]) == 0:  # 空白行\n",
    "            j = i + 1\n",
    "            for j in range(i + 1, len(vertexes) - 1):  # 寻找第一个非空行 j\n",
    "                if len(vertexes[j]):\n",
    "                    break\n",
    "            wordnet.add(i, Vertex.newPunctuationInstance(sent[i - 1: j - 1]))  # 填充[i, j)之间的空白行\n",
    "            i = j\n",
    "        else:\n",
    "            i += len(vertexes[i][-1].realWord)\n",
    "\n",
    "    return wordnet\n",
    "\n",
    "\n",
    "def viterbi(wordnet):\n",
    "    nodes = wordnet.getVertexes()\n",
    "    # 前向遍历\n",
    "    for i in range(0, len(nodes) - 1):\n",
    "        for node in nodes[i]:\n",
    "            for to in nodes[i + len(node.realWord)]:\n",
    "                to.updateFrom(node)  # 根据距离公式计算节点距离，并维护最短路径上的前驱指针from\n",
    "    # 后向回溯\n",
    "    path = []  # 最短路径\n",
    "    f = nodes[len(nodes) - 1].getFirst()  # 从终点回溯\n",
    "    while f:\n",
    "        path.insert(0, f)\n",
    "        f = f.getFrom()  # 按前驱指针from回溯\n",
    "    return [v.realWord for v in path]\n",
    "\n",
    "\n",
    "if __name__ == '__main__':\n",
    "    corpus_path = my_cws_corpus()\n",
    "    model_path = os.path.join(test_data_path(), 'my_cws_model')\n",
    "    train_bigram(corpus_path, model_path)\n",
    "    load_bigram(model_path)"
   ],
   "metadata": {
    "collapsed": false,
    "pycharm": {
     "name": "#%%\n"
    }
   }
  },
  {
   "cell_type": "markdown",
   "source": [
    "### tests/book/ch03/demo_custom_dict.py"
   ],
   "metadata": {
    "collapsed": false
   }
  },
  {
   "cell_type": "code",
   "execution_count": null,
   "outputs": [],
   "source": [
    "# Author：hankcs\n",
    "# Date: 2018-06-07 14:48\n",
    "# 《自然语言处理入门》3.4.5 与用户词典的集成\n",
    "# 配套书籍：http://nlp.hankcs.com/book.php\n",
    "# 讨论答疑：https://bbs.hankcs.com/\n",
    "from pyhanlp import *\n",
    "\n",
    "ViterbiSegment = SafeJClass('com.hankcs.hanlp.seg.Viterbi.ViterbiSegment')\n",
    "\n",
    "segment = ViterbiSegment()\n",
    "sentence = \"社会摇摆简称社会摇\"\n",
    "segment.enableCustomDictionary(False)\n",
    "print(\"不挂载词典：\", segment.seg(sentence))\n",
    "CustomDictionary.insert(\"社会摇\", \"nz 100\")\n",
    "segment.enableCustomDictionary(True)\n",
    "print(\"低优先级词典：\", segment.seg(sentence))\n",
    "segment.enableCustomDictionaryForcing(True)\n",
    "print(\"高优先级词典：\", segment.seg(sentence))"
   ],
   "metadata": {
    "collapsed": false,
    "pycharm": {
     "name": "#%%\n"
    }
   }
  },
  {
   "cell_type": "markdown",
   "source": [
    "### tests/book/ch03/eval_bigram_cws.py"
   ],
   "metadata": {
    "collapsed": false
   }
  },
  {
   "cell_type": "code",
   "execution_count": null,
   "outputs": [],
   "source": [
    "# Author：hankcs\n",
    "# Date: 2018-06-07 15:25\n",
    "# 《自然语言处理入门》3.5.1 标准化评测\n",
    "# 配套书籍：http://nlp.hankcs.com/book.php\n",
    "# 讨论答疑：https://bbs.hankcs.com/\n",
    "from pyhanlp import *\n",
    "from tests.book.ch03.msr import msr_dict, msr_train, msr_model, msr_test, msr_output, msr_gold\n",
    "from tests.book.ch03.ngram_segment import train_bigram, load_bigram\n",
    "\n",
    "CWSEvaluator = SafeJClass('com.hankcs.hanlp.seg.common.CWSEvaluator')\n",
    "\n",
    "if __name__ == '__main__':\n",
    "    train_bigram(msr_train, msr_model)  # 训练\n",
    "    segment = load_bigram(msr_model)  # 加载\n",
    "    result = CWSEvaluator.evaluate(segment, msr_test, msr_output, msr_gold, msr_dict)  # 预测打分\n",
    "    print(result)"
   ],
   "metadata": {
    "collapsed": false,
    "pycharm": {
     "name": "#%%\n"
    }
   }
  },
  {
   "cell_type": "markdown",
   "source": [
    "### tests/book/ch03/msr.py"
   ],
   "metadata": {
    "collapsed": false
   }
  },
  {
   "cell_type": "code",
   "execution_count": null,
   "outputs": [],
   "source": [
    "# Author：hankcs\n",
    "# Date: 2018-06-08 15:35\n",
    "# 3.2.2 微软亚洲研究院语料库 MSR\n",
    "# 配套书籍：http://nlp.hankcs.com/book.php\n",
    "# 讨论答疑：https://bbs.hankcs.com/\n",
    "import os\n",
    "\n",
    "from tests.test_utility import ensure_data, test_data_path\n",
    "\n",
    "sighan05 = ensure_data('icwb2-data', 'http://sighan.cs.uchicago.edu/bakeoff2005/data/icwb2-data.zip')\n",
    "msr_dict = os.path.join(sighan05, 'gold', 'msr_training_words.utf8')\n",
    "msr_train = os.path.join(sighan05, 'training', 'msr_training.utf8')\n",
    "msr_model = os.path.join(test_data_path(), 'msr_cws')\n",
    "msr_test = os.path.join(sighan05, 'testing', 'msr_test.utf8')\n",
    "msr_output = os.path.join(sighan05, 'testing', 'msr_bigram_output.txt')\n",
    "msr_gold = os.path.join(sighan05, 'gold', 'msr_test_gold.utf8')"
   ],
   "metadata": {
    "collapsed": false,
    "pycharm": {
     "name": "#%%\n"
    }
   }
  },
  {
   "cell_type": "markdown",
   "source": [
    "### tests/book/ch03/sighan05_statistics.py"
   ],
   "metadata": {
    "collapsed": false
   }
  },
  {
   "cell_type": "code",
   "execution_count": null,
   "outputs": [],
   "source": [
    "# Author：hankcs\n",
    "# Date: 2018-06-05 18:03\n",
    "# 《自然语言处理入门》3.2.4 语料库统计\n",
    "# 配套书籍：http://nlp.hankcs.com/book.php\n",
    "# 讨论答疑：https://bbs.hankcs.com/\n",
    "import re\n",
    "from collections import Counter\n",
    "\n",
    "import os\n",
    "\n",
    "from tests.test_utility import ensure_data\n",
    "\n",
    "\n",
    "def count_corpus(train_path: str, test_path: str):\n",
    "    train_counter, train_freq, train_chars = count_word_freq(train_path)\n",
    "    test_counter, test_freq, test_chars = count_word_freq(test_path)\n",
    "    test_oov = sum(test_counter[w] for w in (test_counter.keys() - train_counter.keys()))\n",
    "    return train_chars / 10000, len(\n",
    "        train_counter) / 10000, train_freq / 10000, train_chars / train_freq, test_chars / 10000, len(\n",
    "        test_counter) / 10000, test_freq / 10000, test_chars / test_freq, test_oov / test_freq * 100\n",
    "\n",
    "\n",
    "def count_word_freq(train_path):\n",
    "    f = Counter()\n",
    "    with open(train_path, encoding='utf-8') as src:\n",
    "        for line in src:\n",
    "            for word in re.compile(\"\\\\s+\").split(line.strip()):\n",
    "                f[word] += 1\n",
    "    return f, sum(f.values()), sum(len(w) * f[w] for w in f.keys())\n",
    "\n",
    "\n",
    "if __name__ == '__main__':\n",
    "    sighan05 = ensure_data('icwb2-data', 'http://sighan.cs.uchicago.edu/bakeoff2005/data/icwb2-data.zip')\n",
    "    print('|语料库|字符数|词语种数|总词频|平均词长|字符数|词语种数|总词频|平均词长|OOV|')\n",
    "    for data in 'pku', 'msr', 'as', 'cityu':\n",
    "        train_path = os.path.join(sighan05, 'training', '{}_training.utf8'.format(data))\n",
    "        test_path = os.path.join(sighan05, 'gold',\n",
    "                                 ('{}_testing_gold.utf8' if data == 'as' else '{}_test_gold.utf8').format(data))\n",
    "        print(\n",
    "            '|%s|%.0f万|%.0f万|%.0f万|%.1f|%.0f万|%.0f万|%.0f万|%.1f|%.2f%%|' % (\n",
    "                (data.upper(),) + count_corpus(train_path, test_path)))"
   ],
   "metadata": {
    "collapsed": false,
    "pycharm": {
     "name": "#%%\n"
    }
   }
  },
  {
   "cell_type": "markdown",
   "source": [
    "### tests/book/ch03/demo_corpus_loader.py"
   ],
   "metadata": {
    "collapsed": false
   }
  },
  {
   "cell_type": "code",
   "execution_count": null,
   "outputs": [],
   "source": [
    "# Author：hankcs\n",
    "# Date: 2018-06-06 12:51\n",
    "# 《自然语言处理入门》3.3.1 加载语料库\n",
    "# 配套书籍：http://nlp.hankcs.com/book.php\n",
    "# 讨论答疑：https://bbs.hankcs.com/\n",
    "from pyhanlp import *\n",
    "from tests.test_utility import test_data_path\n",
    "\n",
    "CorpusLoader = SafeJClass('com.hankcs.hanlp.corpus.document.CorpusLoader')\n",
    "\n",
    "\n",
    "def my_cws_corpus():\n",
    "    data_root = test_data_path()\n",
    "    corpus_path = os.path.join(data_root, 'my_cws_corpus.txt')\n",
    "    if not os.path.isfile(corpus_path):\n",
    "        with open(corpus_path, 'w', encoding='utf-8') as out:\n",
    "            out.write('''商品 和 服务\n",
    "商品 和服 物美价廉\n",
    "服务 和 货币''')\n",
    "    return corpus_path\n",
    "\n",
    "\n",
    "def load_cws_corpus(corpus_path):\n",
    "    return CorpusLoader.convert2SentenceList(corpus_path)\n",
    "\n",
    "\n",
    "if __name__ == '__main__':\n",
    "    corpus_path = my_cws_corpus()\n",
    "    sents = load_cws_corpus(corpus_path)\n",
    "    for sent in sents:\n",
    "        print(sent)"
   ],
   "metadata": {
    "collapsed": false,
    "pycharm": {
     "name": "#%%\n"
    }
   }
  },
  {
   "cell_type": "markdown",
   "source": [
    "## 第04章"
   ],
   "metadata": {
    "collapsed": false
   }
  },
  {
   "cell_type": "markdown",
   "source": [
    "### tests/book/ch04/doctor_hmm.py"
   ],
   "metadata": {
    "collapsed": false
   }
  },
  {
   "cell_type": "code",
   "execution_count": null,
   "outputs": [],
   "source": [
    "# Author：hankcs\n",
    "# Date: 2018-06-17 11:32\n",
    "# 《自然语言处理入门》4.4 隐马尔可夫模型的训练\n",
    "# 配套书籍：http://nlp.hankcs.com/book.php\n",
    "# 讨论答疑：https://bbs.hankcs.com/\n",
    "import numpy as np\n",
    "from pyhanlp import *\n",
    "from jpype import JArray, JFloat, JInt\n",
    "\n",
    "to_str = JClass('java.util.Arrays').toString\n",
    "\n",
    "states = ('Healthy', 'Fever')\n",
    "start_probability = {'Healthy': 0.6, 'Fever': 0.4}\n",
    "transition_probability = {\n",
    "    'Healthy': {'Healthy': 0.7, 'Fever': 0.3},\n",
    "    'Fever': {'Healthy': 0.4, 'Fever': 0.6},\n",
    "}\n",
    "emission_probability = {\n",
    "    'Healthy': {'normal': 0.5, 'cold': 0.4, 'dizzy': 0.1},\n",
    "    'Fever': {'normal': 0.1, 'cold': 0.3, 'dizzy': 0.6},\n",
    "}\n",
    "observations = ('normal', 'cold', 'dizzy')\n",
    "\n",
    "\n",
    "def generate_index_map(lables):\n",
    "    index_label = {}\n",
    "    label_index = {}\n",
    "    i = 0\n",
    "    for l in lables:\n",
    "        index_label[i] = l\n",
    "        label_index[l] = i\n",
    "        i += 1\n",
    "    return label_index, index_label\n",
    "\n",
    "\n",
    "states_label_index, states_index_label = generate_index_map(states)\n",
    "observations_label_index, observations_index_label = generate_index_map(observations)\n",
    "\n",
    "\n",
    "def convert_observations_to_index(observations, label_index):\n",
    "    list = []\n",
    "    for o in observations:\n",
    "        list.append(label_index[o])\n",
    "    return list\n",
    "\n",
    "\n",
    "def convert_map_to_vector(map, label_index):\n",
    "    v = np.empty(len(map), dtype=float)\n",
    "    for e in map:\n",
    "        v[label_index[e]] = map[e]\n",
    "    return JArray(JFloat, v.ndim)(v.tolist())  # 将numpy数组转为Java数组\n",
    "\n",
    "\n",
    "def convert_map_to_matrix(map, label_index1, label_index2):\n",
    "    m = np.empty((len(label_index1), len(label_index2)), dtype=float)\n",
    "    for line in map:\n",
    "        for col in map[line]:\n",
    "            m[label_index1[line]][label_index2[col]] = map[line][col]\n",
    "    return JArray(JFloat, m.ndim)(m.tolist())\n",
    "\n",
    "\n",
    "A = convert_map_to_matrix(transition_probability, states_label_index, states_label_index)\n",
    "B = convert_map_to_matrix(emission_probability, states_label_index, observations_label_index)\n",
    "observations_index = convert_observations_to_index(observations, observations_label_index)\n",
    "pi = convert_map_to_vector(start_probability, states_label_index)\n",
    "\n",
    "FirstOrderHiddenMarkovModel = JClass('com.hankcs.hanlp.model.hmm.FirstOrderHiddenMarkovModel')\n",
    "given_model = FirstOrderHiddenMarkovModel(pi, A, B)\n",
    "\n",
    "for O, S in given_model.generate(3, 5, 2):\n",
    "    print(\" \".join((observations_index_label[o] + '/' + states_index_label[s]) for o, s in zip(O, S)))\n",
    "\n",
    "trained_model = FirstOrderHiddenMarkovModel()\n",
    "trained_model.train(given_model.generate(3, 10, 100000))\n",
    "assert trained_model.similar(given_model)\n",
    "trained_model.unLog()  # 将对数形式的概率还原回来\n",
    "\n",
    "print(trained_model.start_probability)\n",
    "for vec in trained_model.transition_probability:\n",
    "    print(vec)\n",
    "for vec in trained_model.emission_probability:\n",
    "    print(vec)\n",
    "\n",
    "pred = JArray(JInt, 1)([0, 0, 0])\n",
    "prob = given_model.predict(observations_index, pred)\n",
    "print(\" \".join((observations_index_label[o] + '/' + states_index_label[s]) for o, s in\n",
    "               zip(observations_index, pred)) + \" {:.3f}\".format(np.math.exp(prob)))"
   ],
   "metadata": {
    "collapsed": false,
    "pycharm": {
     "name": "#%%\n"
    }
   }
  },
  {
   "cell_type": "markdown",
   "source": [
    "### tests/book/ch04/hmm_cws.py"
   ],
   "metadata": {
    "collapsed": false
   }
  },
  {
   "cell_type": "code",
   "execution_count": null,
   "outputs": [],
   "source": [
    "# Author：hankcs\n",
    "# Date: 2018-06-19 14:33\n",
    "# 《自然语言处理入门》4.6 隐马尔可夫模型应用于中文分词\n",
    "# 配套书籍：http://nlp.hankcs.com/book.php\n",
    "# 讨论答疑：https://bbs.hankcs.com/\n",
    "from pyhanlp import *\n",
    "from tests.book.ch03.eval_bigram_cws import CWSEvaluator\n",
    "from tests.book.ch03.msr import msr_dict, msr_train, msr_model, msr_test, msr_output, msr_gold\n",
    "\n",
    "FirstOrderHiddenMarkovModel = JClass('com.hankcs.hanlp.model.hmm.FirstOrderHiddenMarkovModel')\n",
    "SecondOrderHiddenMarkovModel = JClass('com.hankcs.hanlp.model.hmm.SecondOrderHiddenMarkovModel')\n",
    "HMMSegmenter = JClass('com.hankcs.hanlp.model.hmm.HMMSegmenter')\n",
    "\n",
    "\n",
    "def train(corpus, model):\n",
    "    segmenter = HMMSegmenter(model)\n",
    "    segmenter.train(corpus)\n",
    "    print(segmenter.segment('商品和服务'))\n",
    "    return segmenter.toSegment()\n",
    "\n",
    "\n",
    "def evaluate(segment):\n",
    "    result = CWSEvaluator.evaluate(segment, msr_test, msr_output, msr_gold, msr_dict)\n",
    "    print(result)\n",
    "\n",
    "\n",
    "if __name__ == '__main__':\n",
    "    segment = train(msr_train, FirstOrderHiddenMarkovModel())\n",
    "    evaluate(segment)\n",
    "    segment = train(msr_train, SecondOrderHiddenMarkovModel())\n",
    "    evaluate(segment)"
   ],
   "metadata": {
    "collapsed": false,
    "pycharm": {
     "name": "#%%\n"
    }
   }
  },
  {
   "cell_type": "markdown",
   "source": [
    "## 第05章"
   ],
   "metadata": {
    "collapsed": false
   }
  },
  {
   "cell_type": "markdown",
   "source": [
    "### tests/book/ch05/plot_2d_sgd.py"
   ],
   "metadata": {
    "collapsed": false
   }
  },
  {
   "cell_type": "code",
   "execution_count": null,
   "outputs": [],
   "source": [
    "# Author：hankcs\n",
    "# Date: 2018-06-26 16:49\n",
    "# 《自然语言处理入门》5.2.4 损失函数与随机梯度下降\n",
    "# 配套书籍：http://nlp.hankcs.com/book.php\n",
    "# 讨论答疑：https://bbs.hankcs.com/\n",
    "\n",
    "import matplotlib.pyplot as plt\n",
    "import numpy as np\n",
    "\n",
    "from tests.book.ch05.plot_name import newline\n",
    "\n",
    "plt.rcParams['font.sans-serif'] = ['SimHei']  # 用来正常显示中文标签\n",
    "plt.rcParams['axes.unicode_minus'] = False  # 用来正常显示负号\n",
    "\n",
    "x = np.linspace(-1.5, 1.5)\n",
    "y = x ** 2\n",
    "\n",
    "newline([1, 0], [1, 1], color='g')\n",
    "\n",
    "plt.ylim([0, 2])\n",
    "\n",
    "plt.plot(x, y)\n",
    "plt.title('$J(w)=w^2$')\n",
    "plt.xlabel('$w$')\n",
    "plt.ylabel('$J(w)$')\n",
    "plt.annotate('梯度$\\Delta w = 2$', xy=(1, 1), xytext=(0, 1.0), ha='center',\n",
    "             arrowprops=dict(facecolor='black', shrink=0.05),\n",
    "             )\n",
    "\n",
    "bbox_props = dict(boxstyle=\"larrow\", fc='w', ec=\"black\", lw=2)\n",
    "t = plt.text(0.6, 0.1, \"梯度下降方向\", ha=\"center\", va=\"center\", rotation=0,\n",
    "             bbox=bbox_props)\n",
    "bbox_props['boxstyle'] = 'rarrow'\n",
    "plt.text(1.4, 0.1, \"梯度上升方向\", ha=\"center\", va=\"center\", rotation=0,\n",
    "         bbox=bbox_props)\n",
    "\n",
    "plt.show()"
   ],
   "metadata": {
    "collapsed": false,
    "pycharm": {
     "name": "#%%\n"
    }
   }
  },
  {
   "cell_type": "markdown",
   "source": [
    "### tests/book/ch05/classify_name.py"
   ],
   "metadata": {
    "collapsed": false
   }
  },
  {
   "cell_type": "code",
   "execution_count": null,
   "outputs": [],
   "source": [
    "# Author：hankcs\n",
    "# Date: 2018-06-21 19:46\n",
    "# 《自然语言处理入门》5.3 基于感知机的人名性别分类\n",
    "# 配套书籍：http://nlp.hankcs.com/book.php\n",
    "# 讨论答疑：https://bbs.hankcs.com/\n",
    "\n",
    "from pyhanlp import *\n",
    "from tests.test_utility import ensure_data\n",
    "\n",
    "PerceptronNameGenderClassifier = JClass('com.hankcs.hanlp.model.perceptron.PerceptronNameGenderClassifier')\n",
    "cnname = ensure_data('cnname', 'http://file.hankcs.com/corpus/cnname.zip')\n",
    "TRAINING_SET = os.path.join(cnname, 'train.csv')\n",
    "TESTING_SET = os.path.join(cnname, 'test.csv')\n",
    "MODEL = cnname + \".bin\"\n",
    "\n",
    "\n",
    "def run_classifier(averaged_perceptron):\n",
    "    print('=====%s=====' % ('平均感知机算法' if averaged_perceptron else '朴素感知机算法'))\n",
    "    classifier = PerceptronNameGenderClassifier()\n",
    "    print('训练集准确率：', classifier.train(TRAINING_SET, 10, averaged_perceptron))\n",
    "    model = classifier.getModel()\n",
    "    print('特征数量：', len(model.parameter))\n",
    "    # model.save(MODEL, model.featureMap.entrySet(), 0, True)\n",
    "    # classifier = PerceptronNameGenderClassifier(MODEL)\n",
    "    for name in \"赵建军\", \"沈雁冰\", \"陆雪琪\", \"李冰冰\":\n",
    "        print('%s=%s' % (name, classifier.predict(name)))\n",
    "    print('测试集准确率：', classifier.evaluate(TESTING_SET))\n",
    "\n",
    "\n",
    "if __name__ == '__main__':\n",
    "    run_classifier(False)\n",
    "    run_classifier(True)"
   ],
   "metadata": {
    "collapsed": false,
    "pycharm": {
     "name": "#%%\n"
    }
   }
  },
  {
   "cell_type": "markdown",
   "source": [
    "### tests/book/ch05/plot_3d_sgd.py"
   ],
   "metadata": {
    "collapsed": false
   }
  },
  {
   "cell_type": "code",
   "execution_count": null,
   "outputs": [],
   "source": [
    "# Author：https://am207.github.io/2017/wiki/gradientdescent.html\n",
    "# Date: 2018-06-26 17:15\n",
    "# 《自然语言处理入门》5.2.4 损失函数与随机梯度下降\n",
    "# 配套书籍：http://nlp.hankcs.com/book.php\n",
    "# 讨论答疑：https://bbs.hankcs.com/\n",
    "\n",
    "import matplotlib.pyplot as plt\n",
    "import numpy as np\n",
    "from sklearn.datasets import make_regression\n",
    "from mpl_toolkits.mplot3d import Axes3D\n",
    "\n",
    "\n",
    "def gradient_descent(x, y, theta_init, step=0.001, maxsteps=0, precision=0.001, ):\n",
    "    costs = []\n",
    "    m = y.size  # number of data points\n",
    "    theta = theta_init\n",
    "    history = []  # to store all thetas\n",
    "    preds = []\n",
    "    counter = 0\n",
    "    oldcost = 0\n",
    "    pred = np.dot(x, theta)\n",
    "    error = pred - y\n",
    "    currentcost = np.sum(error ** 2) / (2 * m)\n",
    "    preds.append(pred)\n",
    "    costs.append(currentcost)\n",
    "    history.append(theta)\n",
    "    counter += 1\n",
    "    while abs(currentcost - oldcost) > precision:\n",
    "        oldcost = currentcost\n",
    "        gradient = x.T.dot(error) / m\n",
    "        theta = theta - step * gradient  # update\n",
    "        history.append(theta)\n",
    "\n",
    "        pred = np.dot(x, theta)\n",
    "        error = pred - y\n",
    "        currentcost = np.sum(error ** 2) / (2 * m)\n",
    "        costs.append(currentcost)\n",
    "\n",
    "        if counter % 25 == 0: preds.append(pred)\n",
    "        counter += 1\n",
    "        if maxsteps:\n",
    "            if counter == maxsteps:\n",
    "                break\n",
    "\n",
    "    return history, costs, preds, counter\n",
    "\n",
    "\n",
    "x, y = make_regression(n_samples=100,\n",
    "                       n_features=1,\n",
    "                       n_informative=1,\n",
    "                       noise=20,\n",
    "                       random_state=2017)\n",
    "x = x.flatten()\n",
    "\n",
    "xaug = np.c_[np.ones(x.shape[0]), x]\n",
    "theta_i = [-15, 40] + np.random.rand(2)\n",
    "history, cost, preds, iters = gradient_descent(xaug, y, theta_i, step=0.1)\n",
    "theta = history[-1]\n",
    "\n",
    "\n",
    "def error(X, Y, THETA):\n",
    "    return np.sum((X.dot(THETA) - Y) ** 2) / (2 * Y.size)\n",
    "\n",
    "\n",
    "ms = np.linspace(theta[0] - 20, theta[0] + 20, 20)\n",
    "bs = np.linspace(theta[1] - 40, theta[1] + 40, 40)\n",
    "\n",
    "M, B = np.meshgrid(ms, bs)\n",
    "\n",
    "zs = np.array([error(xaug, y, theta)\n",
    "               for theta in zip(np.ravel(M), np.ravel(B))])\n",
    "Z = zs.reshape(M.shape)\n",
    "\n",
    "fig = plt.figure(figsize=(10, 6))\n",
    "ax = fig.add_subplot(111, projection='3d')\n",
    "\n",
    "ax.plot_surface(M, B, Z, rstride=1, cstride=1, color='b', alpha=0.2)\n",
    "ax.contour(M, B, Z, 20, alpha=0.5, offset=0, stride=30)\n",
    "\n",
    "ax.set_xlabel('$w_1$')\n",
    "ax.set_ylabel('$w_2$')\n",
    "ax.set_zlabel('$J(w_1,w_2)$')\n",
    "ax.view_init(elev=30., azim=30)\n",
    "ax.plot([theta[0]], [theta[1]], [cost[-1]], markerfacecolor='r', markeredgecolor='r', marker='>', markersize=7)\n",
    "ax.plot([history[0][0]], [history[0][1]], [cost[0]], markerfacecolor='r', markeredgecolor='r', marker='8', markersize=7)\n",
    "\n",
    "ax.plot([history[0][0]], [history[0][1]], 0, markerfacecolor='r', markeredgecolor='r', marker='8',\n",
    "        markersize=7)\n",
    "ax.plot([t[0] for t in history], [t[1] for t in history], cost, markerfacecolor='r', markeredgecolor='r', marker='.',\n",
    "        markersize=2)\n",
    "ax.plot([t[0] for t in history], [t[1] for t in history], 0, markerfacecolor='r', markeredgecolor='r', marker='.',\n",
    "        markersize=2)\n",
    "ax.plot([history[-1][0]], [history[-1][1]], 0, markerfacecolor='r', markeredgecolor='r', marker='>',\n",
    "        markersize=7)\n",
    "plt.show()"
   ],
   "metadata": {
    "collapsed": false,
    "pycharm": {
     "name": "#%%\n"
    }
   }
  },
  {
   "cell_type": "markdown",
   "source": [
    "### tests/book/ch05/plot_name.py"
   ],
   "metadata": {
    "collapsed": false
   }
  },
  {
   "cell_type": "code",
   "execution_count": null,
   "outputs": [],
   "source": [
    "# Author：hankcs\n",
    "# Date: 2018-06-20 10:02\n",
    "# 《自然语言处理入门》5.2 线性分类模型与感知机算法\n",
    "# 配套书籍：http://nlp.hankcs.com/book.php\n",
    "# 讨论答疑：https://bbs.hankcs.com/\n",
    "\n",
    "import matplotlib.pyplot as plt\n",
    "import matplotlib.lines as mlines\n",
    "\n",
    "plt.rcParams['font.sans-serif'] = ['SimHei']  # 用来正常显示中文标签\n",
    "plt.rcParams['axes.unicode_minus'] = False  # 用来正常显示负号\n",
    "\n",
    "\n",
    "def newline(p1, p2, color=None, marker=None):\n",
    "    \"\"\"\n",
    "    https://stackoverflow.com/questions/36470343/how-to-draw-a-line-with-matplotlib\n",
    "    :param p1:\n",
    "    :param p2:\n",
    "    :return:\n",
    "    \"\"\"\n",
    "    ax = plt.gca()\n",
    "    xmin, xmax = ax.get_xbound()\n",
    "\n",
    "    if (p2[0] == p1[0]):\n",
    "        xmin = xmax = p1[0]\n",
    "        ymin, ymax = ax.get_ybound()\n",
    "    else:\n",
    "        ymax = p1[1] + (p2[1] - p1[1]) / (p2[0] - p1[0]) * (xmax - p1[0])\n",
    "        ymin = p1[1] + (p2[1] - p1[1]) / (p2[0] - p1[0]) * (xmin - p1[0])\n",
    "\n",
    "    l = mlines.Line2D([xmin, xmax], [ymin, ymax], color=color, marker=marker)\n",
    "    ax.add_line(l)\n",
    "    return l\n",
    "\n",
    "\n",
    "if __name__ == '__main__':\n",
    "    male = [1, 1]\n",
    "    female = [0, 1]\n",
    "\n",
    "    fig, ax = plt.subplots()\n",
    "    m = ax.scatter(male[0], male[1], s=60, c='blue', marker='x')\n",
    "    ax.annotate('沈雁冰', male)\n",
    "\n",
    "    f = ax.scatter(female[0], female[1], s=60, c='red', marker='o')\n",
    "    ax.annotate('冰心', female)\n",
    "\n",
    "    ax.legend((m, f), (' 男', ' 女'))\n",
    "\n",
    "    plt.xlim(-0.1, 1.5)\n",
    "    plt.ylim(-0.1, 1.5)\n",
    "    plt.xticks([0, 1])\n",
    "    plt.yticks([0, 1])\n",
    "    plt.title('性别分类问题')\n",
    "    newline([0.5, 0], [1, 1.5])\n",
    "    ax.annotate('3x-y-1.5=0', [0.75, 0.6])\n",
    "\n",
    "    plt.xlabel('特征1：是否含“雁”')\n",
    "    plt.ylabel('特征2：是否含“冰”')\n",
    "\n",
    "    plt.show()"
   ],
   "metadata": {
    "collapsed": false,
    "pycharm": {
     "name": "#%%\n"
    }
   }
  },
  {
   "cell_type": "markdown",
   "source": [
    "### tests/book/ch05/online_learning.py"
   ],
   "metadata": {
    "collapsed": false
   }
  },
  {
   "cell_type": "code",
   "execution_count": null,
   "outputs": [],
   "source": [
    "# Author：hankcs\n",
    "# Date: 2018-06-25 13:35\n",
    "# 《自然语言处理入门》5.6.6 模型调整与在线学习\n",
    "# 配套书籍：http://nlp.hankcs.com/book.php\n",
    "# 讨论答疑：https://bbs.hankcs.com/\n",
    "from pyhanlp import PerceptronLexicalAnalyzer, HanLP, CustomDictionary\n",
    "from tests.book.ch03.msr import msr_model\n",
    "\n",
    "HanLP.Config.ShowTermNature = False\n",
    "segment = PerceptronLexicalAnalyzer(msr_model).enableCustomDictionary(False)\n",
    "text = \"与川普通电话\"\n",
    "print(segment.seg(text))\n",
    "\n",
    "CustomDictionary.insert(\"川普\", \"nrf 1\")\n",
    "segment.enableCustomDictionaryForcing(True)\n",
    "print(segment.seg(text))\n",
    "\n",
    "print(segment.seg(\"银川普通人与川普通电话讲四川普通话\"))\n",
    "\n",
    "segment.enableCustomDictionary(False)\n",
    "for i in range(3):                                  # 学三遍\n",
    "    segment.learn(\"人 与 川普 通电话\")                # 在线学习接口的输入必须是标注样本\n",
    "print(segment.seg(\"银川普通人与川普通电话讲四川普通话\"))\n",
    "print(segment.seg(\"首相与川普通话讨论四川普通高考\"))"
   ],
   "metadata": {
    "collapsed": false,
    "pycharm": {
     "name": "#%%\n"
    }
   }
  },
  {
   "cell_type": "markdown",
   "source": [
    "### tests/book/ch05/plot_compressed_f1.py"
   ],
   "metadata": {
    "collapsed": false
   }
  },
  {
   "cell_type": "code",
   "execution_count": null,
   "outputs": [],
   "source": [
    "# Author：hankcs\n",
    "# Date: 2018-06-22 17:53\n",
    "# 《自然语言处理入门》5.6.3 特征裁剪与模型压缩\n",
    "# 配套书籍：http://nlp.hankcs.com/book.php\n",
    "# 讨论答疑：https://bbs.hankcs.com/\n",
    "import os\n",
    "\n",
    "import matplotlib.pyplot as plt\n",
    "from jpype import JClass\n",
    "\n",
    "from tests.book.ch03.eval_bigram_cws import CWSEvaluator\n",
    "from tests.book.ch03.msr import msr_train, msr_model, msr_gold, msr_dict, msr_output, msr_test\n",
    "from tests.book.ch05.perceptron_cws import CWSTrainer, PerceptronLexicalAnalyzer\n",
    "\n",
    "plt.rcParams['font.sans-serif'] = ['SimHei']  # 用来正常显示中文标签\n",
    "plt.rcParams['axes.unicode_minus'] = False  # 用来正常显示负号\n",
    "\n",
    "\n",
    "def train_evaluate(ratios):\n",
    "    if not os.path.isfile(msr_model):\n",
    "        model = CWSTrainer().train(msr_train, msr_train, msr_model, 0, 10, 8).getModel()  # 训练模型\n",
    "    else:\n",
    "        model = JClass('com.hankcs.hanlp.model.perceptron.model.LinearModel')(msr_model)\n",
    "    pre = None\n",
    "    scores = []\n",
    "    for c in ratios:\n",
    "        if pre:\n",
    "            print('以压缩比{}压缩模型中...'.format(c))\n",
    "            model.compress(1 - (1 - c) / pre, 0)\n",
    "        pre = 1 - c\n",
    "        result = CWSEvaluator.evaluate(PerceptronLexicalAnalyzer(model).enableCustomDictionary(False),\n",
    "                                       msr_test, msr_output, msr_gold, msr_dict)\n",
    "        # scores.append(result.F1)\n",
    "        scores.append(float(str(result).split()[2][3:]))\n",
    "    return scores\n",
    "\n",
    "\n",
    "if __name__ == '__main__':\n",
    "    x = [c / 10 for c in range(0, 10)]\n",
    "    y = train_evaluate(x)\n",
    "    plt.title(\"压缩率对准确率的影响\")\n",
    "    plt.xlabel(\"压缩率\")\n",
    "    plt.ylabel(\"准确率\")\n",
    "    plt.xticks([c / 10 for c in range(0, 11)])\n",
    "    # plt.ylim(min(y), max(y))\n",
    "    plt.plot(x, y, color='b')\n",
    "    plt.grid()\n",
    "    plt.show()"
   ],
   "metadata": {
    "collapsed": false,
    "pycharm": {
     "name": "#%%\n"
    }
   }
  },
  {
   "cell_type": "markdown",
   "source": [
    "### tests/book/ch05/eval_perceptron_cws.py"
   ],
   "metadata": {
    "collapsed": false
   }
  },
  {
   "cell_type": "code",
   "execution_count": null,
   "outputs": [],
   "source": [
    "# Author: hankcs\n",
    "# Date: 2019-06-01 11:07\n",
    "# 《自然语言处理入门》5.6 基于结构化感知机的中文分词\n",
    "# 配套书籍：http://nlp.hankcs.com/book.php\n",
    "# 讨论答疑：https://bbs.hankcs.com/\n",
    "\n",
    "from pyhanlp import *\n",
    "from tests.book.ch03.msr import msr_train, msr_model, msr_test, msr_gold, msr_output, msr_dict\n",
    "\n",
    "CWSTrainer = JClass('com.hankcs.hanlp.model.perceptron.CWSTrainer')\n",
    "PerceptronLexicalAnalyzer = JClass('com.hankcs.hanlp.model.perceptron.PerceptronLexicalAnalyzer')\n",
    "LinearModel = JClass('com.hankcs.hanlp.model.perceptron.model.LinearModel')\n",
    "Segment = JClass('com.hankcs.hanlp.seg.Segment')\n",
    "CWSEvaluator = JClass('com.hankcs.hanlp.seg.common.CWSEvaluator')\n",
    "\n",
    "\n",
    "def trainStructuredPerceptron():\n",
    "    model = CWSTrainer().train(msr_train, msr_train, msr_model, 0., 10, 8).getModel()\n",
    "    return PerceptronLexicalAnalyzer(model).enableCustomDictionary(False)\n",
    "\n",
    "\n",
    "def trainAveragedPerceptron():\n",
    "    model = CWSTrainer().train(msr_train, msr_train, msr_model, 0., 10, 1).getModel()\n",
    "    return PerceptronLexicalAnalyzer(model).enableCustomDictionary(False)\n",
    "\n",
    "\n",
    "print(\"结构化感知机\")\n",
    "print(CWSEvaluator.evaluate(trainStructuredPerceptron(), msr_test, msr_output, msr_gold, msr_dict))\n",
    "print(\"平均感知机\")\n",
    "print(CWSEvaluator.evaluate(trainAveragedPerceptron(), msr_test, msr_output, msr_gold, msr_dict))"
   ],
   "metadata": {
    "collapsed": false,
    "pycharm": {
     "name": "#%%\n"
    }
   }
  },
  {
   "cell_type": "markdown",
   "source": [
    "### tests/book/ch05/perceptron_cws.py"
   ],
   "metadata": {
    "collapsed": false
   }
  },
  {
   "cell_type": "code",
   "execution_count": null,
   "outputs": [],
   "source": [
    "# Author：hankcs\n",
    "# Date: 2018-06-22 15:18\n",
    "# 《自然语言处理入门》5.6 基于结构化感知机的中文分词\n",
    "# 配套书籍：http://nlp.hankcs.com/book.php\n",
    "# 讨论答疑：https://bbs.hankcs.com/\n",
    "from pyhanlp import *\n",
    "from tests.book.ch03.eval_bigram_cws import CWSEvaluator\n",
    "from tests.book.ch03.msr import msr_train, msr_model, msr_dict, msr_gold, msr_output, msr_test\n",
    "\n",
    "CWSTrainer = JClass('com.hankcs.hanlp.model.perceptron.CWSTrainer')\n",
    "\n",
    "\n",
    "def train_uncompressed_model():\n",
    "    model = CWSTrainer().train(msr_train, msr_train, msr_model, 0., 10, 8).getModel()  # 训练模型\n",
    "    model.save(msr_model, model.featureMap.entrySet(), 0, True)  # 最后一个参数指定导出txt\n",
    "\n",
    "\n",
    "def train():\n",
    "    model = CWSTrainer().train(msr_train, msr_model).getModel()  # 训练模型\n",
    "    segment = PerceptronLexicalAnalyzer(model).enableCustomDictionary(False)  # 创建分词器\n",
    "    return segment\n",
    "    # print(CWSEvaluator.evaluate(segment, msr_test, msr_output, msr_gold, msr_dict))  # 标准化评测\n",
    "\n",
    "\n",
    "if __name__ == '__main__':\n",
    "    segment = train()\n",
    "    sents = [\n",
    "        \"王思斌，男，１９４９年１０月生。\",\n",
    "        \"山东桓台县起凤镇穆寨村妇女穆玲英\",\n",
    "        \"现为中国艺术研究院中国文化研究所研究员。\",\n",
    "        \"我们的父母重男轻女\",\n",
    "        \"北京输气管道工程\",\n",
    "    ]\n",
    "    for sent in sents:\n",
    "        print(segment.seg(sent))\n",
    "    # train_uncompressed_model()"
   ],
   "metadata": {
    "collapsed": false,
    "pycharm": {
     "name": "#%%\n"
    }
   }
  },
  {
   "cell_type": "markdown",
   "source": [
    "### tests/book/ch05/plot_corpus_ratio_f1.py"
   ],
   "metadata": {
    "collapsed": false
   }
  },
  {
   "cell_type": "code",
   "execution_count": null,
   "outputs": [],
   "source": [
    "# Author：hankcs\n",
    "# Date: 2018-06-22 17:53\n",
    "# 《自然语言处理入门》5.6.3 特征裁剪与模型压缩\n",
    "# 配套书籍：http://nlp.hankcs.com/book.php\n",
    "# 讨论答疑：https://bbs.hankcs.com/\n",
    "from tempfile import NamedTemporaryFile\n",
    "\n",
    "import numpy as np\n",
    "\n",
    "__doc__ = '试验语料库规模对准确率的影响'\n",
    "\n",
    "from tests.book.ch03.eval_bigram_cws import CWSEvaluator\n",
    "from tests.book.ch03.msr import msr_train, msr_model, msr_gold, msr_dict, msr_output, msr_test\n",
    "from tests.book.ch05.perceptron_cws import CWSTrainer, PerceptronLexicalAnalyzer\n",
    "import matplotlib.pyplot as plt\n",
    "\n",
    "plt.rcParams['font.sans-serif'] = ['SimHei']  # 用来正常显示中文标签\n",
    "plt.rcParams['axes.unicode_minus'] = False  # 用来正常显示负号\n",
    "\n",
    "\n",
    "def train_evaluate(ratio):\n",
    "    partial_corpus = NamedTemporaryFile(delete=False).name\n",
    "    with open(msr_train, encoding='utf-8') as src, open(partial_corpus, 'w', encoding='utf-8') as dst:\n",
    "        all_lines = src.readlines()\n",
    "        dst.writelines(all_lines[:int(ratio * len(all_lines))])\n",
    "\n",
    "    model = CWSTrainer().train(partial_corpus, partial_corpus, msr_model, 0, 50, 8).getModel()  # 训练模型\n",
    "    result = CWSEvaluator.evaluate(PerceptronLexicalAnalyzer(model).enableCustomDictionary(False),\n",
    "                                   msr_test, msr_output, msr_gold, msr_dict)\n",
    "    # return result.F1\n",
    "    return float(str(result).split()[2][3:])\n",
    "\n",
    "\n",
    "if __name__ == '__main__':\n",
    "    x = [r / 10 for r in range(1, 11)]\n",
    "    y = [train_evaluate(r) for r in x]\n",
    "    plt.title(\"语料库规模对准确率的影响\")\n",
    "    plt.xlabel(\"语料库规模（万字符）\")\n",
    "    plt.ylabel(\"准确率\")\n",
    "    plt.xticks([int(r / 10 * 405) for r in range(1, 11)])\n",
    "    plt.yticks(np.arange(91, 97.5, 0.5))\n",
    "    plt.plot([int(r / 10 * 405) for r in range(1, 11)], y, color='b')\n",
    "    plt.grid()\n",
    "    plt.show()"
   ],
   "metadata": {
    "collapsed": false,
    "pycharm": {
     "name": "#%%\n"
    }
   }
  },
  {
   "cell_type": "markdown",
   "source": [
    "## 第06章"
   ],
   "metadata": {
    "collapsed": false
   }
  },
  {
   "cell_type": "markdown",
   "source": [
    "### tests/book/ch06/evaluate_crf_cws.py"
   ],
   "metadata": {
    "collapsed": false
   }
  },
  {
   "cell_type": "code",
   "execution_count": null,
   "outputs": [],
   "source": [
    "# Author：hankcs\n",
    "# Date: 2018-07-02 14:43\n",
    "# 《自然语言处理入门》6.4 HanLP 中的 CRF++ API\n",
    "# 配套书籍：http://nlp.hankcs.com/book.php\n",
    "# 讨论答疑：https://bbs.hankcs.com/\n",
    "\n",
    "from pyhanlp import *\n",
    "from tests.book.ch03 import msr\n",
    "from tests.book.ch03.eval_bigram_cws import CWSEvaluator\n",
    "from tests.book.ch06.crfpp_train_hanlp_load import CRF_MODEL_PATH, CRF_MODEL_TXT_PATH\n",
    "\n",
    "CRFSegmenter = JClass('com.hankcs.hanlp.model.crf.CRFSegmenter')\n",
    "CRFLexicalAnalyzer = JClass('com.hankcs.hanlp.model.crf.CRFLexicalAnalyzer')\n",
    "\n",
    "\n",
    "def train(corpus):\n",
    "    segmenter = CRFSegmenter(None)\n",
    "    segmenter.train(corpus, CRF_MODEL_PATH)\n",
    "    return CRFLexicalAnalyzer(segmenter)\n",
    "    # 训练完毕时，可传入txt格式的模型（不可传入CRF++的二进制模型，不兼容！）\n",
    "    # return CRFLexicalAnalyzer(CRF_MODEL_TXT_PATH).enableCustomDictionary(False)\n",
    "\n",
    "\n",
    "if __name__ == '__main__':\n",
    "    segment = train(msr.msr_train)\n",
    "    print(CWSEvaluator.evaluate(segment, msr.msr_test, msr.msr_output, msr.msr_gold, msr.msr_dict))  # 标准化评测"
   ],
   "metadata": {
    "collapsed": false,
    "pycharm": {
     "name": "#%%\n"
    }
   }
  },
  {
   "cell_type": "markdown",
   "source": [
    "### tests/book/ch06/crfpp_train_hanlp_load.py"
   ],
   "metadata": {
    "collapsed": false
   }
  },
  {
   "cell_type": "code",
   "execution_count": null,
   "outputs": [],
   "source": [
    "# Author：hankcs\n",
    "# Date: 2018-07-01 19:15\n",
    "# 《自然语言处理入门》6.4 HanLP 中的 CRF++ API\n",
    "# 配套书籍：http://nlp.hankcs.com/book.php\n",
    "# 讨论答疑：https://bbs.hankcs.com/\n",
    "from pyhanlp import *\n",
    "from pyhanlp.static import HANLP_JAR_PATH\n",
    "from tests.book.ch03.demo_corpus_loader import my_cws_corpus\n",
    "from tests.test_utility import test_data_path\n",
    "\n",
    "CRFSegmenter = JClass('com.hankcs.hanlp.model.crf.CRFSegmenter')\n",
    "\n",
    "TXT_CORPUS_PATH = my_cws_corpus()\n",
    "TSV_CORPUS_PATH = TXT_CORPUS_PATH + \".tsv\"\n",
    "TEMPLATE_PATH = test_data_path() + \"/cws-template.txt\"\n",
    "CRF_MODEL_PATH = test_data_path() + \"/crf-cws-model\"\n",
    "CRF_MODEL_TXT_PATH = test_data_path() + \"/crf-cws-model.txt\"\n",
    "\n",
    "\n",
    "def train_or_load(corpus_txt_path=TXT_CORPUS_PATH, model_txt_path=CRF_MODEL_TXT_PATH):\n",
    "    if os.path.isfile(model_txt_path):  # 已训练，直接加载\n",
    "        segmenter = CRFSegmenter(model_txt_path)\n",
    "        return segmenter\n",
    "    else:\n",
    "        segmenter = CRFSegmenter()  # 创建空白分词器\n",
    "        segmenter.convertCorpus(corpus_txt_path, TSV_CORPUS_PATH)  # 执行转换\n",
    "        segmenter.dumpTemplate(TEMPLATE_PATH)  # 导出特征模板\n",
    "        # 交给CRF++训练\n",
    "        print(\"语料已转换为 %s ，特征模板已导出为 %s\" % (TSV_CORPUS_PATH, TEMPLATE_PATH))\n",
    "        print(\"请安装CRF++后执行 crf_learn -f 3 -c 4.0 %s %s %s -t\" % (TEMPLATE_PATH, TSV_CORPUS_PATH, CRF_MODEL_PATH))\n",
    "        print(\"或者执行移植版 java -cp %s com.hankcs.hanlp.model.crf.crfpp.crf_learn -f 3 -c 4.0 %s %s %s -t\" % (\n",
    "            HANLP_JAR_PATH, TEMPLATE_PATH, TSV_CORPUS_PATH, CRF_MODEL_PATH))\n",
    "\n",
    "\n",
    "if __name__ == '__main__':\n",
    "    segment = train_or_load()\n",
    "    if segment:\n",
    "        print(segment.segment(\"商品和服务\"))"
   ],
   "metadata": {
    "collapsed": false,
    "pycharm": {
     "name": "#%%\n"
    }
   }
  },
  {
   "cell_type": "markdown",
   "source": [
    "### tests/book/ch06/plot_3d_sgd_newton.py"
   ],
   "metadata": {
    "collapsed": false
   }
  },
  {
   "cell_type": "code",
   "execution_count": null,
   "outputs": [],
   "source": [
    "# Author：https://am207.github.io/2017/wiki/gradientdescent.html\n",
    "# Date: 2018-06-26 17:15\n",
    "# 《自然语言处理入门》6.2.2 条件随机场的训练\n",
    "# 配套书籍：http://nlp.hankcs.com/book.php\n",
    "# 讨论答疑：https://bbs.hankcs.com/\n",
    "\n",
    "import matplotlib.pyplot as plt\n",
    "import numpy as np\n",
    "from sklearn.datasets import make_regression\n",
    "\n",
    "\n",
    "def gradient_descent(x, y, theta_init, step=0.001, maxsteps=0, precision=0.001, ):\n",
    "    costs = []\n",
    "    m = y.size  # number of data points\n",
    "    theta = theta_init\n",
    "    history = []  # to store all thetas\n",
    "    preds = []\n",
    "    counter = 0\n",
    "    oldcost = 0\n",
    "    pred = np.dot(x, theta)\n",
    "    error = pred - y\n",
    "    currentcost = np.sum(error ** 2) / (2 * m)\n",
    "    preds.append(pred)\n",
    "    costs.append(currentcost)\n",
    "    history.append(theta)\n",
    "    counter += 1\n",
    "    while abs(currentcost - oldcost) > precision:\n",
    "        oldcost = currentcost\n",
    "        gradient = x.T.dot(error) / m\n",
    "        theta = theta - step * gradient  # update\n",
    "        history.append(theta)\n",
    "\n",
    "        pred = np.dot(x, theta)\n",
    "        error = pred - y\n",
    "        currentcost = np.sum(error ** 2) / (2 * m)\n",
    "        costs.append(currentcost)\n",
    "\n",
    "        if counter % 25 == 0: preds.append(pred)\n",
    "        counter += 1\n",
    "        if maxsteps:\n",
    "            if counter == maxsteps:\n",
    "                break\n",
    "\n",
    "    return history, costs, preds, counter\n",
    "\n",
    "\n",
    "x, y = make_regression(n_samples=100,\n",
    "                       n_features=1,\n",
    "                       n_informative=1,\n",
    "                       noise=20,\n",
    "                       random_state=66)\n",
    "x = x.flatten()\n",
    "\n",
    "xaug = np.c_[np.ones(x.shape[0]), x]\n",
    "theta_i = [-15, 40] + np.random.rand(2)\n",
    "history, cost, preds, iters = gradient_descent(xaug, y, theta_i, step=0.1)\n",
    "theta = history[-1]\n",
    "\n",
    "from mpl_toolkits.mplot3d import Axes3D\n",
    "\n",
    "\n",
    "def error(X, Y, THETA):\n",
    "    return np.sum((X.dot(THETA) - Y) ** 2) / (2 * Y.size)\n",
    "\n",
    "\n",
    "ms = np.linspace(theta[0] - 20, theta[0] + 20, 20)\n",
    "bs = np.linspace(theta[1] - 40, theta[1] + 40, 40)\n",
    "\n",
    "M, B = np.meshgrid(ms, bs)\n",
    "\n",
    "zs = np.array([error(xaug, y, theta)\n",
    "               for theta in zip(np.ravel(M), np.ravel(B))])\n",
    "Z = zs.reshape(M.shape)\n",
    "\n",
    "fig = plt.figure(figsize=(10, 6))\n",
    "ax = fig.add_subplot(111, projection='3d')\n",
    "\n",
    "ax.plot_surface(M, B, Z, rstride=1, cstride=1, color='b', alpha=0.2)\n",
    "ax.contour(M, B, Z, 20, color='b', alpha=0.5, offset=0, stride=30)\n",
    "\n",
    "ax.set_xlabel('$w_1$')\n",
    "ax.set_ylabel('$w_2$')\n",
    "ax.set_zlabel('$J(w_1,w_2)$')\n",
    "ax.view_init(elev=30., azim=30)\n",
    "ax.plot([theta[0]], [theta[1]], [cost[-1]], markerfacecolor='r', markeredgecolor='r', marker='<', markersize=7)\n",
    "ax.plot([history[0][0]], [history[0][1]], [cost[0]], markerfacecolor='r', markeredgecolor='r', marker='8', markersize=7)\n",
    "\n",
    "ax.plot([history[0][0]], [history[0][1]], 0, markerfacecolor='r', markeredgecolor='r', marker='8',\n",
    "        markersize=7)\n",
    "ax.plot([t[0] for t in history], [t[1] for t in history], cost, markerfacecolor='r', markeredgecolor='r', marker='.',\n",
    "        markersize=1)\n",
    "ax.plot([t[0] for t in history], [t[1] for t in history], 0, markerfacecolor='r', markeredgecolor='r', marker='.',\n",
    "        markersize=1)\n",
    "ax.plot([history[-1][0]], [history[-1][1]], 0, markerfacecolor='r', markeredgecolor='r', marker='<',\n",
    "        markersize=7)\n",
    "\n",
    "k = (history[0][1] - history[-1][1]) / (history[0][0] - history[-1][0])\n",
    "b = history[0][1] - k * history[0][0]\n",
    "ax.plot([t[0] for t in history], [t[0] * k + b for t in history], 0, markerfacecolor='b', markeredgecolor='b',\n",
    "        marker=',',\n",
    "        markersize=1)\n",
    "\n",
    "plt.show()"
   ],
   "metadata": {
    "collapsed": false,
    "pycharm": {
     "name": "#%%\n"
    }
   }
  },
  {
   "cell_type": "markdown",
   "source": [
    "### tests/book/ch06/plot_2d_newton.py"
   ],
   "metadata": {
    "collapsed": false
   }
  },
  {
   "cell_type": "code",
   "execution_count": null,
   "outputs": [],
   "source": [
    "# 《自然语言处理入门》6.2.2 条件随机场的训练\n",
    "# 配套书籍：http://nlp.hankcs.com/book.php\n",
    "# 讨论答疑：https://bbs.hankcs.com/\n",
    "import matplotlib\n",
    "import matplotlib.pyplot as plt\n",
    "import numpy as np\n",
    "\n",
    "plt.rcParams['font.sans-serif'] = ['SimHei']  # 用来正常显示中文标签\n",
    "plt.rcParams['axes.unicode_minus'] = False  # 用来正常显示负号\n",
    "leafNode = dict(boxstyle=\"round4\", fc=\"0.8\")\n",
    "arrow_args = dict(arrowstyle=\"<-\")\n",
    "\n",
    "matplotlib.rcParams['xtick.direction'] = 'out'\n",
    "matplotlib.rcParams['ytick.direction'] = 'out'\n",
    "\n",
    "delta = 0.025\n",
    "x = np.arange(-2.0, 2.0, delta)\n",
    "y = np.arange(-2.0, 2.0, delta)\n",
    "X, Y = np.meshgrid(x, y)\n",
    "Z1 = -((X - 1) ** 2)\n",
    "Z2 = -(Y ** 2)\n",
    "Z = -1.0 * (Z2 + Z1) + 1\n",
    "\n",
    "plt.figure()\n",
    "CS = plt.contour(X, Y, Z)\n",
    "plt.annotate('', xy=(0.05, 0.05), xycoords='axes fraction',\n",
    "             xytext=(0.2, 0.2), textcoords='axes fraction',\n",
    "             va=\"center\", ha=\"center\", bbox=leafNode, arrowprops=arrow_args)\n",
    "plt.text(-1.85, -1.67, '$P_0$')\n",
    "\n",
    "plt.annotate('', xy=(0.2, 0.2), xycoords='axes fraction',\n",
    "             xytext=(0.35, 0.33), textcoords='axes fraction',\n",
    "             va=\"center\", ha=\"center\", bbox=leafNode, arrowprops=arrow_args)\n",
    "plt.text(-1.32, -1.23, '$P_1$')\n",
    "\n",
    "plt.annotate('', xy=(0.35, 0.33), xycoords='axes fraction',\n",
    "             xytext=(0.52, 0.43), textcoords='axes fraction',\n",
    "             va=\"center\", ha=\"center\", bbox=leafNode, arrowprops=arrow_args)\n",
    "plt.text(-0.7, -0.65, '$P_2$')\n",
    "\n",
    "plt.annotate('', xy=(0.52, 0.43), xycoords='axes fraction',\n",
    "             xytext=(0.75, 0.5), textcoords='axes fraction',\n",
    "             va=\"center\", ha=\"center\", bbox=leafNode, arrowprops=arrow_args)\n",
    "plt.text(0., -0.24, '$P_3$')\n",
    "plt.text(0.95, -0.1, '$P_4$')\n",
    "\n",
    "plt.annotate('', xy=(0.05, 0.05), xycoords='axes fraction',\n",
    "             xytext=(0.75, 0.5), textcoords='axes fraction',\n",
    "             va=\"center\", ha=\"center\", bbox=leafNode, arrowprops={\"arrowstyle\": \"<-\", 'ls': 'dashed'})\n",
    "\n",
    "plt.xticks([])\n",
    "plt.yticks([])\n",
    "plt.clabel(CS, inline=1, fontsize=10)\n",
    "plt.title('梯度下降')\n",
    "plt.xlabel('$w_1$')\n",
    "plt.ylabel('$w_2$')\n",
    "plt.show()"
   ],
   "metadata": {
    "collapsed": false,
    "pycharm": {
     "name": "#%%\n"
    }
   }
  },
  {
   "cell_type": "markdown",
   "source": [
    "## 第07章"
   ],
   "metadata": {
    "collapsed": false
   }
  },
  {
   "cell_type": "markdown",
   "source": [
    "### tests/book/ch07/demo_perceptron_pos.py"
   ],
   "metadata": {
    "collapsed": false
   }
  },
  {
   "cell_type": "code",
   "execution_count": null,
   "outputs": [],
   "source": [
    "# Author：hankcs\n",
    "# Date: 2018-07-05 10:19\n",
    "# 《自然语言处理入门》7.3.2 基于感知机的词性标注\n",
    "# 配套书籍：http://nlp.hankcs.com/book.php\n",
    "# 讨论答疑：https://bbs.hankcs.com/\n",
    "\n",
    "from pyhanlp import *\n",
    "from tests.book.ch07.demo_hmm_pos import AbstractLexicalAnalyzer, PerceptronSegmenter\n",
    "from tests.book.ch07.pku import PKU199801_TRAIN, POS_MODEL\n",
    "\n",
    "POSTrainer = JClass('com.hankcs.hanlp.model.perceptron.POSTrainer')\n",
    "PerceptronPOSTagger = JClass('com.hankcs.hanlp.model.perceptron.PerceptronPOSTagger')\n",
    "\n",
    "\n",
    "def train_perceptron_pos(corpus):\n",
    "    trainer = POSTrainer()\n",
    "    trainer.train(corpus, POS_MODEL)  # 训练\n",
    "    tagger = PerceptronPOSTagger(POS_MODEL)  # 加载\n",
    "    print(', '.join(tagger.tag(\"他\", \"的\", \"希望\", \"是\", \"希望\", \"上学\")))  # 预测\n",
    "    analyzer = AbstractLexicalAnalyzer(PerceptronSegmenter(), tagger)  # 构造词法分析器\n",
    "    print(analyzer.analyze(\"李狗蛋的希望是希望上学\"))  # 分词+词性标注\n",
    "    return tagger\n",
    "\n",
    "\n",
    "if __name__ == '__main__':\n",
    "    train_perceptron_pos(PKU199801_TRAIN)"
   ],
   "metadata": {
    "collapsed": false,
    "pycharm": {
     "name": "#%%\n"
    }
   }
  },
  {
   "cell_type": "markdown",
   "source": [
    "### tests/book/ch07/custom_corpus_pos.py"
   ],
   "metadata": {
    "collapsed": false
   }
  },
  {
   "cell_type": "code",
   "execution_count": null,
   "outputs": [],
   "source": [
    "# Author：hankcs\n",
    "# Date: 2018-07-06 13:54\n",
    "# 《自然语言处理入门》7.4.2 标注语料\n",
    "# 配套书籍：http://nlp.hankcs.com/book.php\n",
    "# 讨论答疑：https://bbs.hankcs.com/\n",
    "from tests.book.ch07.demo_hmm_pos import AbstractLexicalAnalyzer, PerceptronSegmenter\n",
    "from tests.book.ch07.demo_perceptron_pos import train_perceptron_pos\n",
    "from tests.test_utility import ensure_data\n",
    "\n",
    "ZHUXIAN = ensure_data(\"zhuxian\", \"http://file.hankcs.com/corpus/zhuxian.zip\") + \"/train.txt\"\n",
    "posTagger = train_perceptron_pos(ZHUXIAN)  # 训练\n",
    "analyzer = AbstractLexicalAnalyzer(PerceptronSegmenter(), posTagger)  # 包装\n",
    "print(analyzer.analyze(\"陆雪琪的天琊神剑不做丝毫退避，直冲而上，瞬间，这两道奇光异宝撞到了一起。\"))  # 分词+标注"
   ],
   "metadata": {
    "collapsed": false,
    "pycharm": {
     "name": "#%%\n"
    }
   }
  },
  {
   "cell_type": "markdown",
   "source": [
    "### tests/book/ch07/demo_hmm_pos.py"
   ],
   "metadata": {
    "collapsed": false
   }
  },
  {
   "cell_type": "code",
   "execution_count": null,
   "outputs": [],
   "source": [
    "# Author：hankcs\n",
    "# Date: 2018-07-04 17:34\n",
    "# 《自然语言处理入门》7.3.1 基于隐马尔可夫模型的词性标注\n",
    "# 配套书籍：http://nlp.hankcs.com/book.php\n",
    "# 讨论答疑：https://bbs.hankcs.com/\n",
    "\n",
    "from  pyhanlp import *\n",
    "from tests.book.ch07.pku import PKU199801_TRAIN\n",
    "\n",
    "HMMPOSTagger = JClass('com.hankcs.hanlp.model.hmm.HMMPOSTagger')\n",
    "AbstractLexicalAnalyzer = JClass('com.hankcs.hanlp.tokenizer.lexical.AbstractLexicalAnalyzer')\n",
    "PerceptronSegmenter = JClass('com.hankcs.hanlp.model.perceptron.PerceptronSegmenter')\n",
    "FirstOrderHiddenMarkovModel = JClass('com.hankcs.hanlp.model.hmm.FirstOrderHiddenMarkovModel')\n",
    "SecondOrderHiddenMarkovModel = JClass('com.hankcs.hanlp.model.hmm.SecondOrderHiddenMarkovModel')\n",
    "\n",
    "def train_hmm_pos(corpus, model):\n",
    "    tagger = HMMPOSTagger(model)  # 创建词性标注器\n",
    "    tagger.train(corpus)  # 训练\n",
    "    print(', '.join(tagger.tag(\"他\", \"的\", \"希望\", \"是\", \"希望\", \"上学\")))  # 预测\n",
    "    analyzer = AbstractLexicalAnalyzer(PerceptronSegmenter(), tagger)  # 构造词法分析器\n",
    "    print(analyzer.analyze(\"他的希望是希望上学\"))  # 分词+词性标注\n",
    "    return tagger\n",
    "\n",
    "\n",
    "if __name__ == '__main__':\n",
    "    tagger = train_hmm_pos(PKU199801_TRAIN, FirstOrderHiddenMarkovModel())\n",
    "    tagger = train_hmm_pos(PKU199801_TRAIN, SecondOrderHiddenMarkovModel())  # 或二阶隐马"
   ],
   "metadata": {
    "collapsed": false,
    "pycharm": {
     "name": "#%%\n"
    }
   }
  },
  {
   "cell_type": "markdown",
   "source": [
    "### tests/book/ch07/evaluate_pos.py"
   ],
   "metadata": {
    "collapsed": false
   }
  },
  {
   "cell_type": "code",
   "execution_count": null,
   "outputs": [],
   "source": [
    "# Author：hankcs\n",
    "# Date: 2018-07-05 15:12\n",
    "# 《自然语言处理入门》7.3.1 基于隐马尔可夫模型的词性标注\n",
    "# 配套书籍：http://nlp.hankcs.com/book.php\n",
    "# 讨论答疑：https://bbs.hankcs.com/\n",
    "from pyhanlp import *\n",
    "from tests.book.ch07.demo_crf_pos import train_crf_pos\n",
    "from tests.book.ch07.demo_hmm_pos import train_hmm_pos, FirstOrderHiddenMarkovModel, SecondOrderHiddenMarkovModel\n",
    "from tests.book.ch07.demo_perceptron_pos import train_perceptron_pos\n",
    "from tests.book.ch07.pku import PKU199801_TRAIN, PKU199801_TEST\n",
    "\n",
    "PosTagUtil = JClass('com.hankcs.hanlp.dependency.nnparser.util.PosTagUtil')\n",
    "\n",
    "print(\"一阶HMM\\t%.2f%%\" % (\n",
    "    PosTagUtil.evaluate(train_hmm_pos(PKU199801_TRAIN, FirstOrderHiddenMarkovModel()), PKU199801_TEST)))\n",
    "print(\"二阶HMM\\t%.2f%%\" % (\n",
    "    PosTagUtil.evaluate(train_hmm_pos(PKU199801_TRAIN, SecondOrderHiddenMarkovModel()), PKU199801_TEST)))\n",
    "print(\"感知机\\t%.2f%%\" % (PosTagUtil.evaluate(train_perceptron_pos(PKU199801_TRAIN), PKU199801_TEST)))\n",
    "print(\"CRF\\t%.2f%%\" % (PosTagUtil.evaluate(train_crf_pos(PKU199801_TRAIN), PKU199801_TEST)))"
   ],
   "metadata": {
    "collapsed": false,
    "pycharm": {
     "name": "#%%\n"
    }
   }
  },
  {
   "cell_type": "markdown",
   "source": [
    "### tests/book/ch07/custom_pos.py"
   ],
   "metadata": {
    "collapsed": false
   }
  },
  {
   "cell_type": "code",
   "execution_count": null,
   "outputs": [],
   "source": [
    "# Author：hankcs\n",
    "# Date: 2018-07-05 16:14\n",
    "# 《自然语言处理入门》7.4 自定义词性\n",
    "# 配套书籍：http://nlp.hankcs.com/book.php\n",
    "# 讨论答疑：https://bbs.hankcs.com/\n",
    "\n",
    "from pyhanlp import *\n",
    "\n",
    "CustomDictionary.insert(\"苹果\", \"手机品牌 1\")\n",
    "CustomDictionary.insert(\"iPhone X\", \"手机型号 1\")\n",
    "analyzer = PerceptronLexicalAnalyzer()\n",
    "analyzer.enableCustomDictionaryForcing(True)\n",
    "print(analyzer.analyze(\"你们苹果iPhone X保修吗？\"))\n",
    "print(analyzer.analyze(\"多吃苹果有益健康\"))"
   ],
   "metadata": {
    "collapsed": false,
    "pycharm": {
     "name": "#%%\n"
    }
   }
  },
  {
   "cell_type": "markdown",
   "source": [
    "### tests/book/ch07/demo_crf_pos.py"
   ],
   "metadata": {
    "collapsed": false
   }
  },
  {
   "cell_type": "code",
   "execution_count": null,
   "outputs": [],
   "source": [
    "# Author：hankcs\n",
    "# Date: 2018-07-05 10:56\n",
    "# 《自然语言处理入门》7.3.3 基于条件随机场的词性标注\n",
    "# 配套书籍：http://nlp.hankcs.com/book.php\n",
    "# 讨论答疑：https://bbs.hankcs.com/\n",
    "\n",
    "from pyhanlp import *\n",
    "from tests.book.ch07.demo_hmm_pos import AbstractLexicalAnalyzer, PerceptronSegmenter\n",
    "from tests.book.ch07.pku import POS_MODEL, PKU199801_TRAIN\n",
    "\n",
    "CRFPOSTagger = JClass('com.hankcs.hanlp.model.crf.CRFPOSTagger')\n",
    "\n",
    "\n",
    "def train_crf_pos(corpus):\n",
    "    # 选项1.使用HanLP的Java API训练，慢\n",
    "    tagger = CRFPOSTagger(None)  # 创建空白标注器\n",
    "    tagger.train(corpus, POS_MODEL)  # 训练\n",
    "    tagger = CRFPOSTagger(POS_MODEL) # 加载\n",
    "    # 选项2.使用CRF++训练，HanLP加载。（训练命令由选项1给出）\n",
    "    # tagger = CRFPOSTagger(POS_MODEL + \".txt\")\n",
    "    print(', '.join(tagger.tag(\"他\", \"的\", \"希望\", \"是\", \"希望\", \"上学\")))  # 预测\n",
    "    analyzer = AbstractLexicalAnalyzer(PerceptronSegmenter(), tagger)  # 构造词法分析器\n",
    "    print(analyzer.analyze(\"李狗蛋的希望是希望上学\"))  # 分词+词性标注\n",
    "    return tagger\n",
    "\n",
    "\n",
    "if __name__ == '__main__':\n",
    "    tagger = train_crf_pos(PKU199801_TRAIN)"
   ],
   "metadata": {
    "collapsed": false,
    "pycharm": {
     "name": "#%%\n"
    }
   }
  },
  {
   "cell_type": "markdown",
   "source": [
    "### tests/book/ch07/pku.py"
   ],
   "metadata": {
    "collapsed": false
   }
  },
  {
   "cell_type": "code",
   "execution_count": null,
   "outputs": [],
   "source": [
    "# Author：hankcs\n",
    "# Date: 2018-07-04 17:41\n",
    "# 《自然语言处理入门》7.2.1 《人民日报》语料库与 PKU 标注集\n",
    "# 配套书籍：http://nlp.hankcs.com/book.php\n",
    "# 讨论答疑：https://bbs.hankcs.com/\n",
    "import os\n",
    "\n",
    "from tests.test_utility import ensure_data\n",
    "\n",
    "PKU98 = ensure_data(\"pku98\", \"http://file.hankcs.com/corpus/pku98.zip\")\n",
    "PKU199801 = os.path.join(PKU98, '199801.txt')\n",
    "PKU199801_TRAIN = os.path.join(PKU98, '199801-train.txt')\n",
    "PKU199801_TEST = os.path.join(PKU98, '199801-test.txt')\n",
    "POS_MODEL = os.path.join(PKU98, 'pos.bin')\n",
    "NER_MODEL = os.path.join(PKU98, 'ner.bin')"
   ],
   "metadata": {
    "collapsed": false,
    "pycharm": {
     "name": "#%%\n"
    }
   }
  },
  {
   "cell_type": "markdown",
   "source": [
    "## 第08章"
   ],
   "metadata": {
    "collapsed": false
   }
  },
  {
   "cell_type": "markdown",
   "source": [
    "### tests/book/ch08/demo_role_tag_nt.py"
   ],
   "metadata": {
    "collapsed": false
   }
  },
  {
   "cell_type": "code",
   "execution_count": null,
   "outputs": [],
   "source": [
    "# Author：hankcs\n",
    "# Date: 2018-07-27 15:35\n",
    "# 《自然语言处理入门》8.4.3 基于角色标注的机构名识别\n",
    "# 配套书籍：http://nlp.hankcs.com/book.php\n",
    "# 讨论答疑：https://bbs.hankcs.com/\n",
    "from pyhanlp import *\n",
    "from tests.book.ch03.ngram_segment import DijkstraSegment\n",
    "from tests.book.ch07 import pku\n",
    "from tests.test_utility import test_data_path\n",
    "\n",
    "EasyDictionary = JClass('com.hankcs.hanlp.corpus.dictionary.EasyDictionary')\n",
    "NTDictionaryMaker = JClass('com.hankcs.hanlp.corpus.dictionary.NTDictionaryMaker')\n",
    "Sentence = JClass('com.hankcs.hanlp.corpus.document.sentence.Sentence')\n",
    "MODEL = test_data_path() + \"/ns\"\n",
    "\n",
    "\n",
    "def train(corpus, model):\n",
    "    dictionary = EasyDictionary.create(HanLP.Config.CoreDictionaryPath)  # 核心词典\n",
    "    maker = NTDictionaryMaker(dictionary)  # 训练模块\n",
    "    maker.train(corpus)  # 在语料库上训练\n",
    "    maker.saveTxtTo(model)  # 输出HMM到txt\n",
    "\n",
    "\n",
    "def load(model):\n",
    "    HanLP.Config.PlaceDictionaryPath = model + \".txt\"  # data/test/ns.txt\n",
    "    HanLP.Config.PlaceDictionaryTrPath = model + \".tr.txt\"  # data/test/ns.tr.txt\n",
    "    segment = DijkstraSegment().enableOrganizationRecognize(True).enableCustomDictionary(False)  # 该分词器便于调试\n",
    "    return segment\n",
    "\n",
    "\n",
    "def test(model=MODEL):\n",
    "    segment = load(model)\n",
    "    HanLP.Config.enableDebug()\n",
    "    print(segment.seg(\"温州黄鹤皮革制造有限公司是由黄先生创办的企业\"))\n",
    "\n",
    "\n",
    "if __name__ == '__main__':\n",
    "    train(pku.PKU199801, MODEL)\n",
    "    test(MODEL)"
   ],
   "metadata": {
    "collapsed": false,
    "pycharm": {
     "name": "#%%\n"
    }
   }
  },
  {
   "cell_type": "markdown",
   "source": [
    "### tests/book/ch08/demo_num_eng.py"
   ],
   "metadata": {
    "collapsed": false
   }
  },
  {
   "cell_type": "code",
   "execution_count": null,
   "outputs": [],
   "source": [
    "# Author：hankcs\n",
    "# Date: 2018-07-24 16:55\n",
    "# 《自然语言处理入门》8.2.3 基于规则的数词英文识别\n",
    "# 配套书籍：http://nlp.hankcs.com/book.php\n",
    "# 讨论答疑：https://bbs.hankcs.com/\n",
    "from pyhanlp import *\n",
    "\n",
    "from tests.book.ch03.ngram_segment import ViterbiSegment\n",
    "\n",
    "CharType = JClass('com.hankcs.hanlp.dictionary.other.CharType')\n",
    "\n",
    "segment = ViterbiSegment()\n",
    "print(segment.seg(\"牛奶三〇〇克壹佰块\"))\n",
    "print(segment.seg(\"牛奶300克100块\"))\n",
    "print(segment.seg(\"牛奶300g100rmb\"))\n",
    "# 演示自定义字符类型\n",
    "text = \"牛奶300~400g100rmb\"\n",
    "print(segment.seg(text))\n",
    "CharType.set('~', CharType.CT_NUM)\n",
    "print(segment.seg(text))"
   ],
   "metadata": {
    "collapsed": false,
    "pycharm": {
     "name": "#%%\n"
    }
   }
  },
  {
   "cell_type": "markdown",
   "source": [
    "### tests/book/ch08/demo_crf_ner.py"
   ],
   "metadata": {
    "collapsed": false
   }
  },
  {
   "cell_type": "code",
   "execution_count": null,
   "outputs": [],
   "source": [
    "# Author：hankcs\n",
    "# Date: 2018-07-29 18:07\n",
    "# 《自然语言处理入门》8.5.4 基于条件随机场序列标注的命名 实体识别\n",
    "# 配套书籍：http://nlp.hankcs.com/book.php\n",
    "# 讨论答疑：https://bbs.hankcs.com/\n",
    "from pyhanlp import *\n",
    "from tests.book.ch07 import pku\n",
    "from tests.book.ch08.demo_hmm_ner import test\n",
    "\n",
    "NERTrainer = JClass('com.hankcs.hanlp.model.perceptron.NERTrainer')\n",
    "CRFNERecognizer = JClass('com.hankcs.hanlp.model.crf.CRFNERecognizer')\n",
    "\n",
    "\n",
    "def train(corpus, model):\n",
    "    recognizer = CRFNERecognizer(None)  # 空白\n",
    "    recognizer.train(corpus, model)\n",
    "    recognizer = CRFNERecognizer(model)\n",
    "    return recognizer\n",
    "\n",
    "\n",
    "if __name__ == '__main__':\n",
    "    recognizer = train(pku.PKU199801_TRAIN, pku.NER_MODEL)\n",
    "    test(recognizer)"
   ],
   "metadata": {
    "collapsed": false,
    "pycharm": {
     "name": "#%%\n"
    }
   }
  },
  {
   "cell_type": "markdown",
   "source": [
    "### tests/book/ch08/msra_ner.py"
   ],
   "metadata": {
    "collapsed": false
   }
  },
  {
   "cell_type": "code",
   "execution_count": null,
   "outputs": [],
   "source": [
    "# Author：hankcs\n",
    "# Date: 2018-07-04 17:41\n",
    "# 《自然语言处理入门》8.5.3 基于感知机序列标注的命名实体识别\n",
    "# 配套书籍：http://nlp.hankcs.com/book.php\n",
    "# 讨论答疑：https://bbs.hankcs.com/\n",
    "import os\n",
    "\n",
    "from tests.test_utility import ensure_data\n",
    "\n",
    "MSRA_NER = ensure_data(\"msra-ne\", \"http://file.hankcs.com/corpus/msra-ne.zip\")\n",
    "MSRA_NER_TRAIN = os.path.join(MSRA_NER, 'train.txt')\n",
    "MSRA_NER_TEST = os.path.join(MSRA_NER, 'test.txt')\n",
    "MSRA_NER_MODEL = os.path.join(MSRA_NER, 'model.bin')"
   ],
   "metadata": {
    "collapsed": false,
    "pycharm": {
     "name": "#%%\n"
    }
   }
  },
  {
   "cell_type": "markdown",
   "source": [
    "### tests/book/ch08/demo_role_tag_nr.py"
   ],
   "metadata": {
    "collapsed": false
   }
  },
  {
   "cell_type": "code",
   "execution_count": null,
   "outputs": [],
   "source": [
    "# Author：hankcs\n",
    "# Date: 2018-07-24 22:04\n",
    "# 《自然语言处理入门》8.4.1 基于角色标注的中国人名识别\n",
    "# 配套书籍：http://nlp.hankcs.com/book.php\n",
    "# 讨论答疑：https://bbs.hankcs.com/\n",
    "from pyhanlp import *\n",
    "from tests.book.ch03.ngram_segment import DijkstraSegment\n",
    "from tests.book.ch07 import pku\n",
    "from tests.test_utility import test_data_path\n",
    "\n",
    "EasyDictionary = JClass('com.hankcs.hanlp.corpus.dictionary.EasyDictionary')\n",
    "NRDictionaryMaker = JClass('com.hankcs.hanlp.corpus.dictionary.NRDictionaryMaker')\n",
    "Sentence = JClass('com.hankcs.hanlp.corpus.document.sentence.Sentence')\n",
    "MODEL = test_data_path() + \"/nr\"\n",
    "\n",
    "\n",
    "def demoNR():\n",
    "    HanLP.Config.enableDebug()\n",
    "    segment = DijkstraSegment()\n",
    "    print(segment.seg(\"王国维和服务员\"))\n",
    "\n",
    "\n",
    "def train_one_sent():\n",
    "    dictionary = EasyDictionary.create(HanLP.Config.CoreDictionaryPath)  # 核心词典\n",
    "    maker = NRDictionaryMaker(dictionary)  # 训练模块\n",
    "    maker.verbose = True  # 调试输出\n",
    "    maker.learn([Sentence.create(\"这里/r 有/v 关天培/nr 的/u 有关/vn 事迹/n 。/w\")])  # 学习一个句子\n",
    "    maker.saveTxtTo(MODEL)  # 输出HMM到txt\n",
    "\n",
    "\n",
    "def train(corpus, model):\n",
    "    dictionary = EasyDictionary.create(HanLP.Config.CoreDictionaryPath)  # 核心词典\n",
    "    maker = NRDictionaryMaker(dictionary)  # 训练模块\n",
    "    maker.train(corpus)  # 在语料库上训练\n",
    "    maker.saveTxtTo(model)  # 输出HMM到txt\n",
    "\n",
    "\n",
    "def load(model):\n",
    "    HanLP.Config.PersonDictionaryPath = model + \".txt\"  # data/test/nr.txt\n",
    "    HanLP.Config.PersonDictionaryTrPath = model + \".tr.txt\"  # data/test/nr.tr.txt\n",
    "    segment = DijkstraSegment()  # 该分词器便于调试\n",
    "    return segment\n",
    "\n",
    "\n",
    "def test():\n",
    "    segment = load(MODEL)\n",
    "    HanLP.Config.enableDebug()\n",
    "    print(segment.seg(\"龚学平等领导\"))\n",
    "\n",
    "\n",
    "if __name__ == '__main__':\n",
    "    demoNR()\n",
    "    train_one_sent()\n",
    "    train(pku.PKU199801, MODEL)\n",
    "    test()"
   ],
   "metadata": {
    "collapsed": false,
    "pycharm": {
     "name": "#%%\n"
    }
   }
  },
  {
   "cell_type": "markdown",
   "source": [
    "### tests/book/ch08/demo_sp_ner.py"
   ],
   "metadata": {
    "collapsed": false
   }
  },
  {
   "cell_type": "code",
   "execution_count": null,
   "outputs": [],
   "source": [
    "# Author：hankcs\n",
    "# Date: 2018-07-29 15:06\n",
    "# 《自然语言处理入门》8.5.3 基于感知机序列标注的命名实体识别\n",
    "# 配套书籍：http://nlp.hankcs.com/book.php\n",
    "# 讨论答疑：https://bbs.hankcs.com/\n",
    "from pyhanlp import *\n",
    "from tests.book.ch07 import pku\n",
    "from tests.book.ch08.demo_hmm_ner import test, PerceptronSegmenter, PerceptronPOSTagger\n",
    "from tests.book.ch08.demo_role_tag_nr import Sentence\n",
    "\n",
    "NERTrainer = JClass('com.hankcs.hanlp.model.perceptron.NERTrainer')\n",
    "PerceptronNERecognizer = JClass('com.hankcs.hanlp.model.perceptron.PerceptronNERecognizer')\n",
    "\n",
    "\n",
    "def train(corpus, model):\n",
    "    trainer = NERTrainer()\n",
    "    return PerceptronNERecognizer(trainer.train(corpus, model).getModel())\n",
    "\n",
    "\n",
    "if __name__ == '__main__':\n",
    "    recognizer = train(pku.PKU199801_TRAIN, pku.NER_MODEL)\n",
    "    test(recognizer)\n",
    "    analyzer = PerceptronLexicalAnalyzer(PerceptronSegmenter(), PerceptronPOSTagger(), recognizer)  # ①\n",
    "    analyzer.enableCustomDictionary(False)\n",
    "    sentence = Sentence.create(\"与/c 特朗普/nr 通/v 电话/n 讨论/v [太空/s 探索/vn 技术/n 公司/n]/nt\")  # ②\n",
    "    while not analyzer.analyze(sentence.text()).equals(sentence):  # ③\n",
    "        analyzer.learn(sentence)"
   ],
   "metadata": {
    "collapsed": false,
    "pycharm": {
     "name": "#%%\n"
    }
   }
  },
  {
   "cell_type": "markdown",
   "source": [
    "### tests/book/ch08/demo_msra_ner.py"
   ],
   "metadata": {
    "collapsed": false
   }
  },
  {
   "cell_type": "code",
   "execution_count": null,
   "outputs": [],
   "source": [
    "# Author：hankcs\n",
    "# Date: 2018-07-29 15:06\n",
    "# 《自然语言处理入门》8.5.3 基于感知机序列标注的命名实体识别\n",
    "# 配套书籍：http://nlp.hankcs.com/book.php\n",
    "# 讨论答疑：https://bbs.hankcs.com/\n",
    "from pyhanlp import *\n",
    "from tests.book.ch07.demo_perceptron_pos import POSTrainer\n",
    "from tests.book.ch08.demo_hmm_ner import PerceptronSegmenter, PerceptronPOSTagger\n",
    "from tests.book.ch08.demo_sp_ner import PerceptronNERecognizer, NERTrainer\n",
    "from tests.book.ch08.msra_ner import MSRA_NER_TRAIN\n",
    "\n",
    "\n",
    "def train_ner(corpus):\n",
    "    model = os.path.join(os.path.dirname(corpus), 'ner.bin')\n",
    "    if os.path.isfile(model):\n",
    "        return PerceptronNERecognizer(model)\n",
    "    trainer = NERTrainer()\n",
    "    trainer.tagSet.nerLabels.clear()  # 不识别nr、ns、nt\n",
    "    trainer.tagSet.nerLabels.addAll(\n",
    "        [\"AGE\", \"ANGLE\", \"AREA\", \"CAPACTITY\", \"DATE\", \"DECIMAL\", \"DURATION\", \"FRACTION\", \"FREQUENCY\", \"INTEGER\",\n",
    "         \"LENGTH\", \"LOCATION\", \"MEASURE\", \"MONEY\", \"ORDINAL\", \"ORGANIZATION\", \"PERCENT\", \"PERSON\", \"PHONE\",\n",
    "         \"POSTALCODE\", \"RATE\", \"SPEED\", \"TEMPERATURE\", \"TIME\", \"WEIGHT\", \"WWW\"])\n",
    "    return PerceptronNERecognizer(trainer.train(corpus, model).getModel())\n",
    "\n",
    "\n",
    "def train_pos(corpus):\n",
    "    model = os.path.join(os.path.dirname(corpus), 'pos.bin')\n",
    "    if os.path.isfile(model):\n",
    "        return PerceptronPOSTagger(model)\n",
    "    trainer = POSTrainer()\n",
    "    return PerceptronPOSTagger(trainer.train(corpus, model).getModel())\n",
    "\n",
    "\n",
    "if __name__ == '__main__':\n",
    "    tagger = train_pos(MSRA_NER_TRAIN)\n",
    "    recognizer = train_ner(MSRA_NER_TRAIN)\n",
    "    analyzer = PerceptronLexicalAnalyzer(PerceptronSegmenter(), tagger, recognizer)\n",
    "    analyzer.enableCustomDictionary(False)\n",
    "    print(analyzer.analyze('2008年5月20日山东大连气温30多摄氏度，王莲香首场赢下李钊颖，中国女队有机会赢下韩国队'))"
   ],
   "metadata": {
    "collapsed": false,
    "pycharm": {
     "name": "#%%\n"
    }
   }
  },
  {
   "cell_type": "markdown",
   "source": [
    "### tests/book/ch08/demo_hmm_ner.py"
   ],
   "metadata": {
    "collapsed": false
   }
  },
  {
   "cell_type": "code",
   "execution_count": null,
   "outputs": [],
   "source": [
    "# Author：hankcs\n",
    "# Date: 2018-07-28 20:59\n",
    "# 《自然语言处理入门》8.5.2 基于隐马尔可夫模型序列标注的 命名实体识别\n",
    "# 配套书籍：http://nlp.hankcs.com/book.php\n",
    "# 讨论答疑：https://bbs.hankcs.com/\n",
    "from pyhanlp import *\n",
    "from tests.book.ch07 import pku\n",
    "\n",
    "HMMNERecognizer = JClass('com.hankcs.hanlp.model.hmm.HMMNERecognizer')\n",
    "AbstractLexicalAnalyzer = JClass('com.hankcs.hanlp.tokenizer.lexical.AbstractLexicalAnalyzer')\n",
    "PerceptronSegmenter = JClass('com.hankcs.hanlp.model.perceptron.PerceptronSegmenter')\n",
    "PerceptronPOSTagger = JClass('com.hankcs.hanlp.model.perceptron.PerceptronPOSTagger')\n",
    "Utility = JClass('com.hankcs.hanlp.model.perceptron.utility.Utility')\n",
    "\n",
    "\n",
    "def train(corpus):\n",
    "    recognizer = HMMNERecognizer()\n",
    "    recognizer.train(corpus)  # data/test/pku98/199801-train.txt\n",
    "    return recognizer\n",
    "\n",
    "\n",
    "def test(recognizer):\n",
    "    word_array = [\"华北\", \"电力\", \"公司\"]  # 构造单词序列\n",
    "    pos_array = [\"ns\", \"n\", \"n\"]  # 构造词性序列\n",
    "    ner_array = recognizer.recognize(word_array, pos_array)  # 序列标注\n",
    "    for word, tag, ner in zip(word_array, pos_array, ner_array):\n",
    "        print(\"%s\\t%s\\t%s\\t\" % (word, tag, ner))\n",
    "    analyzer = AbstractLexicalAnalyzer(PerceptronSegmenter(), PerceptronPOSTagger(), recognizer)\n",
    "    print(analyzer.analyze(\"华北电力公司董事长谭旭光和秘书胡花蕊来到美国纽约现代艺术博物馆参观\"))\n",
    "    scores = Utility.evaluateNER(recognizer, pku.PKU199801_TEST)\n",
    "    Utility.printNERScore(scores)\n",
    "\n",
    "\n",
    "if __name__ == '__main__':\n",
    "    recognizer = train(pku.PKU199801_TRAIN)\n",
    "    test(recognizer)"
   ],
   "metadata": {
    "collapsed": false,
    "pycharm": {
     "name": "#%%\n"
    }
   }
  },
  {
   "cell_type": "markdown",
   "source": [
    "### tests/book/ch08/demo_plane.py"
   ],
   "metadata": {
    "collapsed": false
   }
  },
  {
   "cell_type": "code",
   "execution_count": null,
   "outputs": [],
   "source": [
    "# Author：hankcs\n",
    "# Date: 2018-07-29 23:24\n",
    "# 《自然语言处理入门》8.6 自定义领域命名实体识别\n",
    "# 配套书籍：http://nlp.hankcs.com/book.php\n",
    "# 讨论答疑：https://bbs.hankcs.com/\n",
    "from tests.book.ch05.perceptron_cws import CWSTrainer\n",
    "from tests.book.ch07.demo_hmm_pos import AbstractLexicalAnalyzer, PerceptronSegmenter\n",
    "from tests.book.ch07.demo_perceptron_pos import PerceptronPOSTagger\n",
    "from tests.book.ch08.demo_sp_ner import NERTrainer, os, PerceptronNERecognizer\n",
    "from tests.test_utility import ensure_data\n",
    "\n",
    "PLANE_ROOT = ensure_data(\"plane-re\", \"http://file.hankcs.com/corpus/plane-re.zip\")\n",
    "PLANE_CORPUS = os.path.join(PLANE_ROOT, 'train.txt')\n",
    "PLANE_MODEL = os.path.join(PLANE_ROOT, 'model.bin')\n",
    "\n",
    "if __name__ == '__main__':\n",
    "    trainer = NERTrainer()\n",
    "    trainer.tagSet.nerLabels.clear()  # 不识别nr、ns、nt\n",
    "    trainer.tagSet.nerLabels.add(\"np\")  # 目标是识别np\n",
    "    recognizer = PerceptronNERecognizer(trainer.train(PLANE_CORPUS, PLANE_MODEL).getModel())\n",
    "    # 在NER预测前，需要一个分词器，最好训练自同源语料库\n",
    "    CWS_MODEL = CWSTrainer().train(PLANE_CORPUS, PLANE_MODEL.replace('model.bin', 'cws.bin')).getModel()\n",
    "    analyzer = AbstractLexicalAnalyzer(PerceptronSegmenter(CWS_MODEL), PerceptronPOSTagger(), recognizer)\n",
    "    print(analyzer.analyze(\"米高扬设计米格-17PF：米格-17PF型战斗机比米格-17P性能更好。\"))\n",
    "    print(analyzer.analyze(\"米格-阿帕奇-666S横空出世。\"))"
   ],
   "metadata": {
    "collapsed": false,
    "pycharm": {
     "name": "#%%\n"
    }
   }
  },
  {
   "cell_type": "markdown",
   "source": [
    "### tests/book/ch08/demo_role_tag_ns.py"
   ],
   "metadata": {
    "collapsed": false
   }
  },
  {
   "cell_type": "code",
   "execution_count": null,
   "outputs": [],
   "source": [
    "# Author：hankcs\n",
    "# Date: 2018-07-27 11:17\n",
    "# 《自然语言处理入门》8.4.2 基于角色标注的地名识别\n",
    "# 配套书籍：http://nlp.hankcs.com/book.php\n",
    "# 讨论答疑：https://bbs.hankcs.com/\n",
    "from pyhanlp import *\n",
    "from tests.book.ch03.ngram_segment import DijkstraSegment\n",
    "from tests.book.ch07 import pku\n",
    "from tests.test_utility import test_data_path\n",
    "\n",
    "EasyDictionary = JClass('com.hankcs.hanlp.corpus.dictionary.EasyDictionary')\n",
    "NSDictionaryMaker = JClass('com.hankcs.hanlp.corpus.dictionary.NSDictionaryMaker')\n",
    "Sentence = JClass('com.hankcs.hanlp.corpus.document.sentence.Sentence')\n",
    "MODEL = test_data_path() + \"/ns\"\n",
    "\n",
    "\n",
    "def train(corpus, model):\n",
    "    dictionary = EasyDictionary.create(HanLP.Config.CoreDictionaryPath)  # 核心词典\n",
    "    maker = NSDictionaryMaker(dictionary)  # 训练模块\n",
    "    maker.train(corpus)  # 在语料库上训练\n",
    "    maker.saveTxtTo(model)  # 输出HMM到txt\n",
    "\n",
    "\n",
    "def load(model):\n",
    "    HanLP.Config.PlaceDictionaryPath = model + \".txt\"  # data/test/ns.txt\n",
    "    HanLP.Config.PlaceDictionaryTrPath = model + \".tr.txt\"  # data/test/ns.tr.txt\n",
    "    segment = DijkstraSegment().enablePlaceRecognize(True).enableCustomDictionary(False)  # 该分词器便于调试\n",
    "    return segment\n",
    "\n",
    "\n",
    "def test(model=MODEL):\n",
    "    segment = load(model)\n",
    "    HanLP.Config.enableDebug()\n",
    "    print(segment.seg(\"生于黑牛沟村\"))\n",
    "\n",
    "\n",
    "if __name__ == '__main__':\n",
    "    train(pku.PKU199801, MODEL)\n",
    "    test(MODEL)"
   ],
   "metadata": {
    "collapsed": false,
    "pycharm": {
     "name": "#%%\n"
    }
   }
  },
  {
   "cell_type": "markdown",
   "source": [
    "## 第09章"
   ],
   "metadata": {
    "collapsed": false
   }
  },
  {
   "cell_type": "markdown",
   "source": [
    "### tests/book/ch09/demo_extract_word.py"
   ],
   "metadata": {
    "collapsed": false
   }
  },
  {
   "cell_type": "code",
   "execution_count": null,
   "outputs": [],
   "source": [
    "# Author：hankcs\n",
    "# Date: 2018-07-30 21:03\n",
    "# 《自然语言处理入门》9.1 新词提取\n",
    "# 配套书籍：http://nlp.hankcs.com/book.php\n",
    "# 讨论答疑：https://bbs.hankcs.com/\n",
    "from pyhanlp import *\n",
    "from tests.test_utility import ensure_data\n",
    "\n",
    "HLM_PATH = ensure_data(\"红楼梦.txt\", \"http://file.hankcs.com/corpus/红楼梦.zip\")\n",
    "XYJ_PATH = ensure_data(\"西游记.txt\", \"http://file.hankcs.com/corpus/西游记.zip\")\n",
    "SHZ_PATH = ensure_data(\"水浒传.txt\", \"http://file.hankcs.com/corpus/水浒传.zip\")\n",
    "SAN_PATH = ensure_data(\"三国演义.txt\", \"http://file.hankcs.com/corpus/三国演义.zip\")\n",
    "WEIBO_PATH = ensure_data(\"weibo-classification\", \"http://file.hankcs.com/corpus/weibo-classification.zip\")\n",
    "\n",
    "\n",
    "def test_weibo():\n",
    "    for folder in os.listdir(WEIBO_PATH):\n",
    "        print(folder)\n",
    "        big_text = \"\"\n",
    "        for file in os.listdir(os.path.join(WEIBO_PATH, folder)):\n",
    "            with open(os.path.join(WEIBO_PATH, folder, file), encoding='utf-8') as src:\n",
    "                big_text += \"\".join(src.readlines())\n",
    "        word_info_list = HanLP.extractWords(big_text, 100)\n",
    "        print(word_info_list)\n",
    "\n",
    "\n",
    "def extract(corpus):\n",
    "    print(\"%s 热词\" % corpus)\n",
    "    word_info_list = HanLP.extractWords(IOUtil.newBufferedReader(corpus), 100)\n",
    "    print(word_info_list)\n",
    "    # print(\"%s 新词\" % corpus)\n",
    "    # word_info_list = HanLP.extractWords(IOUtil.newBufferedReader(corpus), 100, True)\n",
    "    # print(word_info_list)\n",
    "\n",
    "\n",
    "if __name__ == '__main__':\n",
    "    extract(HLM_PATH)\n",
    "    extract(XYJ_PATH)\n",
    "    extract(SHZ_PATH)\n",
    "    extract(SAN_PATH)\n",
    "    test_weibo()\n",
    "\n",
    "    # 更多参数\n",
    "    word_info_list = HanLP.extractWords(IOUtil.newBufferedReader(HLM_PATH), 100, True, 4, 0.0, .5, 100)\n",
    "    print(word_info_list)"
   ],
   "metadata": {
    "collapsed": false,
    "pycharm": {
     "name": "#%%\n"
    }
   }
  },
  {
   "cell_type": "markdown",
   "source": [
    "### tests/book/ch09/demo_term_freq.py"
   ],
   "metadata": {
    "collapsed": false
   }
  },
  {
   "cell_type": "code",
   "execution_count": null,
   "outputs": [],
   "source": [
    "# Author：hankcs\n",
    "# Date: 2018-08-01 16:15\n",
    "# 《自然语言处理入门》9.2 关键词提取\n",
    "# 配套书籍：http://nlp.hankcs.com/book.php\n",
    "# 讨论答疑：https://bbs.hankcs.com/\n",
    "from pyhanlp import *\n",
    "\n",
    "TermFrequency = JClass('com.hankcs.hanlp.corpus.occurrence.TermFrequency')\n",
    "TermFrequencyCounter = JClass('com.hankcs.hanlp.mining.word.TermFrequencyCounter')\n",
    "\n",
    "if __name__ == '__main__':\n",
    "    counter = TermFrequencyCounter()\n",
    "    counter.add(\"加油加油中国队！\")  # 第一个文档\n",
    "    counter.add(\"中国观众高呼加油中国\")  # 第二个文档\n",
    "    for termFrequency in counter:  # 遍历每个词与词频\n",
    "        print(\"%s=%d\" % (termFrequency.getTerm(), termFrequency.getFrequency()))\n",
    "    print(counter.top(2))  # 取 top N\n",
    "\n",
    "    #  根据词频提取关键词\n",
    "    print(TermFrequencyCounter.getKeywordList(\"女排夺冠，观众欢呼女排女排女排！\", 3))"
   ],
   "metadata": {
    "collapsed": false,
    "pycharm": {
     "name": "#%%\n"
    }
   }
  },
  {
   "cell_type": "markdown",
   "source": [
    "### tests/book/ch09/demo_tfidf.py"
   ],
   "metadata": {
    "collapsed": false
   }
  },
  {
   "cell_type": "code",
   "execution_count": null,
   "outputs": [],
   "source": [
    "# Author：hankcs\n",
    "# Date: 2018-08-01 18:25\n",
    "# 《自然语言处理入门》9.2 关键词提取\n",
    "# 配套书籍：http://nlp.hankcs.com/book.php\n",
    "# 讨论答疑：https://bbs.hankcs.com/\n",
    "from pyhanlp import *\n",
    "\n",
    "TfIdfCounter = JClass('com.hankcs.hanlp.mining.word.TfIdfCounter')\n",
    "\n",
    "if __name__ == '__main__':\n",
    "    counter = TfIdfCounter()\n",
    "    counter.add(\"《女排夺冠》\", \"女排北京奥运会夺冠\")  # 输入多篇文档\n",
    "    counter.add(\"《羽毛球男单》\", \"北京奥运会的羽毛球男单决赛\")\n",
    "    counter.add(\"《女排》\", \"中国队女排夺北京奥运会金牌重返巅峰，观众欢呼女排女排女排！\")\n",
    "    counter.compute()  # 输入完毕\n",
    "    for id in counter.documents():\n",
    "        print(id + \" : \" + counter.getKeywordsOf(id, 3).toString())  # 根据每篇文档的TF-IDF提取关键词\n",
    "    # 根据语料库已有的IDF信息为语料库之外的新文档提取关键词\n",
    "    print(counter.getKeywords(\"奥运会反兴奋剂\", 2))"
   ],
   "metadata": {
    "collapsed": false,
    "pycharm": {
     "name": "#%%\n"
    }
   }
  },
  {
   "cell_type": "markdown",
   "source": [
    "## 第10章"
   ],
   "metadata": {
    "collapsed": false
   }
  },
  {
   "cell_type": "markdown",
   "source": [
    "### tests/book/ch10/demo_text_clustering.py"
   ],
   "metadata": {
    "collapsed": false
   }
  },
  {
   "cell_type": "code",
   "execution_count": null,
   "outputs": [],
   "source": [
    "# Author：hankcs\n",
    "# Date: 2018-08-18 23:26\n",
    "# 《自然语言处理入门》第 10 章 文本聚类\n",
    "# 配套书籍：http://nlp.hankcs.com/book.php\n",
    "# 讨论答疑：https://bbs.hankcs.com/\n",
    "from pyhanlp import *\n",
    "\n",
    "ClusterAnalyzer = JClass('com.hankcs.hanlp.mining.cluster.ClusterAnalyzer')\n",
    "\n",
    "if __name__ == '__main__':\n",
    "    analyzer = ClusterAnalyzer()\n",
    "    analyzer.addDocument(\"赵一\", \"流行, 流行, 流行, 流行, 流行, 流行, 流行, 流行, 流行, 流行, 蓝调, 蓝调, 蓝调, 蓝调, 蓝调, 蓝调, 摇滚, 摇滚, 摇滚, 摇滚\")\n",
    "    analyzer.addDocument(\"钱二\", \"爵士, 爵士, 爵士, 爵士, 爵士, 爵士, 爵士, 爵士, 舞曲, 舞曲, 舞曲, 舞曲, 舞曲, 舞曲, 舞曲, 舞曲, 舞曲\")\n",
    "    analyzer.addDocument(\"张三\", \"古典, 古典, 古典, 古典, 民谣, 民谣, 民谣, 民谣\")\n",
    "    analyzer.addDocument(\"李四\", \"爵士, 爵士, 爵士, 爵士, 爵士, 爵士, 爵士, 爵士, 爵士, 金属, 金属, 舞曲, 舞曲, 舞曲, 舞曲, 舞曲, 舞曲\")\n",
    "    analyzer.addDocument(\"王五\", \"流行, 流行, 流行, 流行, 摇滚, 摇滚, 摇滚, 嘻哈, 嘻哈, 嘻哈\")\n",
    "    analyzer.addDocument(\"马六\", \"古典, 古典, 古典, 古典, 古典, 古典, 古典, 古典, 摇滚\")\n",
    "    print(analyzer.kmeans(3))\n",
    "    print(analyzer.repeatedBisection(3))\n",
    "    print(analyzer.repeatedBisection(1.0))  # 自动判断聚类数量k"
   ],
   "metadata": {
    "collapsed": false,
    "pycharm": {
     "name": "#%%\n"
    }
   }
  },
  {
   "cell_type": "markdown",
   "source": [
    "### tests/book/ch10/demo_clustering_f.py"
   ],
   "metadata": {
    "collapsed": false
   }
  },
  {
   "cell_type": "code",
   "execution_count": null,
   "outputs": [],
   "source": [
    "# Author：hankcs\n",
    "# Date: 2018-08-19 20:01\n",
    "# 《自然语言处理入门》10.5 标准化评测\n",
    "# 配套书籍：http://nlp.hankcs.com/book.php\n",
    "# 讨论答疑：https://bbs.hankcs.com/\n",
    "from pyhanlp import *\n",
    "from tests.demos.demo_text_classification import sogou_corpus_path\n",
    "\n",
    "ClusterAnalyzer = JClass('com.hankcs.hanlp.mining.cluster.ClusterAnalyzer')\n",
    "\n",
    "if __name__ == '__main__':\n",
    "    for algorithm in \"kmeans\", \"repeated bisection\":\n",
    "        print(\"%s F1=%.2f\\n\" % (algorithm, ClusterAnalyzer.evaluate(sogou_corpus_path, algorithm) * 100))"
   ],
   "metadata": {
    "collapsed": false,
    "pycharm": {
     "name": "#%%\n"
    }
   }
  },
  {
   "cell_type": "markdown",
   "source": [
    "### tests/book/ch10/demo_get_bow_vec.py"
   ],
   "metadata": {
    "collapsed": false
   }
  },
  {
   "cell_type": "code",
   "execution_count": null,
   "outputs": [],
   "source": [
    "# Author: hankcs\n",
    "# Date: 2020-07-31 20:55\n",
    "# 《自然语言处理入门》第 10 章 文本聚类 （这段代码来自书籍之外的附赠答疑）\n",
    "# 配套书籍：http://nlp.hankcs.com/book.php\n",
    "# 讨论答疑：https://bbs.hankcs.com/\n",
    "\n",
    "import os\n",
    "\n",
    "from pyhanlp.static import STATIC_ROOT, HANLP_JAR_PATH\n",
    "\n",
    "java_code_path = os.path.join(STATIC_ROOT, 'MyClusterAnalyzer.java')\n",
    "with open(java_code_path, 'w') as out:\n",
    "    java_code = \"\"\"\n",
    "import com.hankcs.hanlp.mining.cluster.ClusterAnalyzer;\n",
    "import com.hankcs.hanlp.mining.cluster.SparseVector;\n",
    "\n",
    "public class MyClusterAnalyzer<K> extends ClusterAnalyzer<K>\n",
    "{\n",
    "    public SparseVector toVector(String document)\n",
    "    {\n",
    "        return toVector(preprocess(document));\n",
    "    }\n",
    "}\n",
    "\"\"\"\n",
    "    out.write(java_code)\n",
    "os.system('javac -cp {} {} -d {}'.format(HANLP_JAR_PATH, java_code_path, STATIC_ROOT))\n",
    "# 编译结束才可以启动hanlp\n",
    "from pyhanlp import *\n",
    "\n",
    "ClusterAnalyzer = JClass('MyClusterAnalyzer')\n",
    "\n",
    "if __name__ == '__main__':\n",
    "    analyzer = ClusterAnalyzer()\n",
    "    vec = analyzer.toVector(\"古典, 古典, 古典, 古典, 古典, 古典, 古典, 古典, 摇滚\")\n",
    "    print(vec)\n",
    "    # print(analyzer.kmeans(3))\n",
    "    # print(analyzer.repeatedBisection(3))\n",
    "    # print(analyzer.repeatedBisection(1.0))  # 自动判断聚类数量k"
   ],
   "metadata": {
    "collapsed": false,
    "pycharm": {
     "name": "#%%\n"
    }
   }
  },
  {
   "cell_type": "markdown",
   "source": [
    "## 第11章"
   ],
   "metadata": {
    "collapsed": false
   }
  },
  {
   "cell_type": "markdown",
   "source": [
    "### tests/book/ch11/demo_load_text_classification_corpus.py"
   ],
   "metadata": {
    "collapsed": false
   }
  },
  {
   "cell_type": "code",
   "execution_count": null,
   "outputs": [],
   "source": [
    "# Author: hankcs\n",
    "# Date: 2019-01-03 19:36\n",
    "# 《自然语言处理入门》11.2 文本分类语料库\n",
    "# 配套书籍：http://nlp.hankcs.com/book.php\n",
    "# 讨论答疑：https://bbs.hankcs.com/\n",
    "from pyhanlp import *\n",
    "from tests.demos.demo_text_classification import sogou_corpus_path\n",
    "\n",
    "AbstractDataSet = JClass('com.hankcs.hanlp.classification.corpus.AbstractDataSet')\n",
    "Document = JClass('com.hankcs.hanlp.classification.corpus.Document')\n",
    "FileDataSet = JClass('com.hankcs.hanlp.classification.corpus.FileDataSet')\n",
    "MemoryDataSet = JClass('com.hankcs.hanlp.classification.corpus.MemoryDataSet')\n",
    "\n",
    "# 演示加载文本分类语料库\n",
    "if __name__ == '__main__':\n",
    "    dataSet = MemoryDataSet()  # ①将数据集加载到内存中\n",
    "    dataSet.load(sogou_corpus_path)  # ②加载data/test/搜狗文本分类语料库迷你版\n",
    "    dataSet.add(\"自然语言处理\", \"自然语言处理很有趣\")  # ③新增样本\n",
    "    allClasses = dataSet.getCatalog().getCategories()  # ④获取标注集\n",
    "    print(\"标注集：%s\" % (allClasses))\n",
    "    for document in dataSet.iterator():\n",
    "        print(\"第一篇文档的类别：\" + allClasses.get(document.category))\n",
    "        break"
   ],
   "metadata": {
    "collapsed": false,
    "pycharm": {
     "name": "#%%\n"
    }
   }
  },
  {
   "cell_type": "markdown",
   "source": [
    "### tests/book/ch11/demo_text_classification.py"
   ],
   "metadata": {
    "collapsed": false
   }
  },
  {
   "cell_type": "code",
   "execution_count": null,
   "outputs": [],
   "source": [
    "# Author: hankcs\n",
    "# Date: 2019-01-04 20:28\n",
    "# 《自然语言处理入门》11.4.2 朴素贝叶斯文本分类器实现\n",
    "# 请参考tests/demos/demo_text_classification.py\n",
    "# 配套书籍：http://nlp.hankcs.com/book.php\n",
    "# 讨论答疑：https://bbs.hankcs.com/"
   ],
   "metadata": {
    "collapsed": false,
    "pycharm": {
     "name": "#%%\n"
    }
   }
  },
  {
   "cell_type": "markdown",
   "source": [
    "### tests/book/ch11/demo_svm_text_classification.py"
   ],
   "metadata": {
    "collapsed": false
   }
  },
  {
   "cell_type": "code",
   "execution_count": null,
   "outputs": [],
   "source": [
    "# Author: hankcs\n",
    "# Date: 2019-01-06 14:09\n",
    "# 《自然语言处理入门》11.5.2 线性支持向量机文本分类器实现\n",
    "# 配套书籍：http://nlp.hankcs.com/book.php\n",
    "# 讨论答疑：https://bbs.hankcs.com/\n",
    "from pyhanlp.static import STATIC_ROOT, download\n",
    "import os\n",
    "\n",
    "from tests.demos.demo_text_classification import sogou_corpus_path\n",
    "\n",
    "\n",
    "def install_jar(name, url):\n",
    "    dst = os.path.join(STATIC_ROOT, name)\n",
    "    if os.path.isfile(dst):\n",
    "        return dst\n",
    "    download(url, dst)\n",
    "    return dst\n",
    "\n",
    "\n",
    "install_jar('text-classification-svm-1.0.2.jar', 'http://file.hankcs.com/bin/text-classification-svm-1.0.2.jar')\n",
    "install_jar('liblinear-1.95.jar', 'http://file.hankcs.com/bin/liblinear-1.95.jar')\n",
    "from pyhanlp import *\n",
    "\n",
    "LinearSVMClassifier = SafeJClass('com.hankcs.hanlp.classification.classifiers.LinearSVMClassifier')\n",
    "IOUtil = SafeJClass('com.hankcs.hanlp.corpus.io.IOUtil')\n",
    "\n",
    "\n",
    "def train_or_load_classifier():\n",
    "    model_path = sogou_corpus_path + '.svm.ser'\n",
    "    if os.path.isfile(model_path):\n",
    "        return LinearSVMClassifier(IOUtil.readObjectFrom(model_path))\n",
    "    classifier = LinearSVMClassifier()\n",
    "    classifier.train(sogou_corpus_path)\n",
    "    model = classifier.getModel()\n",
    "    IOUtil.saveObjectTo(model, model_path)\n",
    "    return LinearSVMClassifier(model)\n",
    "\n",
    "\n",
    "def predict(classifier, text):\n",
    "    print(\"《%16s》\\t属于分类\\t【%s】\" % (text, classifier.classify(text)))\n",
    "    # 如需获取离散型随机变量的分布，请使用predict接口\n",
    "    # print(\"《%16s》\\t属于分类\\t【%s】\" % (text, classifier.predict(text)))\n",
    "\n",
    "\n",
    "if __name__ == '__main__':\n",
    "    classifier = train_or_load_classifier()\n",
    "    predict(classifier, \"C罗获2018环球足球奖最佳球员 德尚荣膺最佳教练\")\n",
    "    predict(classifier, \"潜艇具有很强的战略威慑能力与实战能力\")\n",
    "    predict(classifier, \"研究生考录模式亟待进一步专业化\")\n",
    "    predict(classifier, \"如果真想用食物解压,建议可以食用燕麦\")\n",
    "    predict(classifier, \"通用及其部分竞争对手目前正在考虑解决库存问题\")"
   ],
   "metadata": {
    "collapsed": false,
    "pycharm": {
     "name": "#%%\n"
    }
   }
  },
  {
   "cell_type": "markdown",
   "source": [
    "### tests/book/ch11/demo_text_classification_evaluation.py"
   ],
   "metadata": {
    "collapsed": false
   }
  },
  {
   "cell_type": "code",
   "execution_count": null,
   "outputs": [],
   "source": [
    "# Author: hankcs\n",
    "# Date: 2019-01-04 20:28\n",
    "# 《自然语言处理入门》11.6 标准化评测\n",
    "# 配套书籍：http://nlp.hankcs.com/book.php\n",
    "# 讨论答疑：https://bbs.hankcs.com/\n",
    "from pyhanlp import *\n",
    "from tests.demos.demo_text_classification import sogou_corpus_path\n",
    "\n",
    "IClassifier = JClass('com.hankcs.hanlp.classification.classifiers.IClassifier')\n",
    "NaiveBayesClassifier = JClass('com.hankcs.hanlp.classification.classifiers.NaiveBayesClassifier')\n",
    "LinearSVMClassifier = JClass('com.hankcs.hanlp.classification.classifiers.LinearSVMClassifier')\n",
    "FileDataSet = JClass('com.hankcs.hanlp.classification.corpus.FileDataSet')\n",
    "IDataSet = JClass('com.hankcs.hanlp.classification.corpus.IDataSet')\n",
    "MemoryDataSet = JClass('com.hankcs.hanlp.classification.corpus.MemoryDataSet')\n",
    "Evaluator = JClass('com.hankcs.hanlp.classification.statistics.evaluations.Evaluator')\n",
    "FMeasure = JClass('com.hankcs.hanlp.classification.statistics.evaluations.FMeasure')\n",
    "BigramTokenizer = JClass('com.hankcs.hanlp.classification.tokenizers.BigramTokenizer')\n",
    "HanLPTokenizer = JClass('com.hankcs.hanlp.classification.tokenizers.HanLPTokenizer')\n",
    "ITokenizer = JClass('com.hankcs.hanlp.classification.tokenizers.ITokenizer')\n",
    "\n",
    "\n",
    "def evaluate(classifier, tokenizer):\n",
    "    training_corpus = FileDataSet().setTokenizer(tokenizer).load(sogou_corpus_path, \"UTF-8\", 0.9)\n",
    "    classifier.train(training_corpus)\n",
    "    testing_corpus = MemoryDataSet(classifier.getModel()).load(sogou_corpus_path, \"UTF-8\", -0.1)\n",
    "    result = Evaluator.evaluate(classifier, testing_corpus)\n",
    "    print(classifier.getClass().getSimpleName() + \"+\" + tokenizer.getClass().getSimpleName())\n",
    "    print(result)\n",
    "\n",
    "\n",
    "if __name__ == '__main__':\n",
    "    evaluate(NaiveBayesClassifier(), HanLPTokenizer())\n",
    "    evaluate(NaiveBayesClassifier(), BigramTokenizer())\n",
    "    evaluate(LinearSVMClassifier(), HanLPTokenizer())\n",
    "    evaluate(LinearSVMClassifier(), BigramTokenizer())"
   ],
   "metadata": {
    "collapsed": false,
    "pycharm": {
     "name": "#%%\n"
    }
   }
  },
  {
   "cell_type": "markdown",
   "source": [
    "## 第12章"
   ],
   "metadata": {
    "collapsed": false
   }
  },
  {
   "cell_type": "markdown",
   "source": [
    "### tests/book/ch12/demo_train_parser.py"
   ],
   "metadata": {
    "collapsed": false
   }
  },
  {
   "cell_type": "code",
   "execution_count": null,
   "outputs": [],
   "source": [
    "# Author: hankcs\n",
    "# Date: 2019-02-11 23:18\n",
    "# 《自然语言处理入门》12.5.1 训练模型\n",
    "# 配套书籍：http://nlp.hankcs.com/book.php\n",
    "# 讨论答疑：https://bbs.hankcs.com/\n",
    "\n",
    "from pyhanlp import *\n",
    "from tests.test_utility import ensure_data\n",
    "\n",
    "KBeamArcEagerDependencyParser = JClass('com.hankcs.hanlp.dependency.perceptron.parser.KBeamArcEagerDependencyParser')\n",
    "CTB_ROOT = ensure_data(\"ctb8.0-dep\", \"http://file.hankcs.com/corpus/ctb8.0-dep.zip\")\n",
    "CTB_TRAIN = CTB_ROOT + \"/train.conll\"\n",
    "CTB_DEV = CTB_ROOT + \"/dev.conll\"\n",
    "CTB_TEST = CTB_ROOT + \"/test.conll\"\n",
    "CTB_MODEL = CTB_ROOT + \"/ctb.bin\"\n",
    "BROWN_CLUSTER = ensure_data(\"wiki-cn-cluster.txt\", \"http://file.hankcs.com/corpus/wiki-cn-cluster.zip\")\n",
    "\n",
    "if __name__ == '__main__':\n",
    "    parser = KBeamArcEagerDependencyParser.train(CTB_TRAIN, CTB_DEV, BROWN_CLUSTER, CTB_MODEL)\n",
    "    print(parser.parse(\"人吃鱼\"))\n",
    "    score = parser.evaluate(CTB_TEST)\n",
    "    print(\"UAS=%.1f LAS=%.1f\\n\" % (score[0], score[1]))"
   ],
   "metadata": {
    "collapsed": false,
    "pycharm": {
     "name": "#%%\n"
    }
   }
  },
  {
   "cell_type": "markdown",
   "source": [
    "### tests/book/ch12/opinion_mining.py"
   ],
   "metadata": {
    "collapsed": false
   }
  },
  {
   "cell_type": "code",
   "execution_count": null,
   "outputs": [],
   "source": [
    "# Author: hankcs\n",
    "# Date: 2019-06-02 18:03\n",
    "# 《自然语言处理入门》12.6 案例:基于依存句法树的意见抽取\n",
    "# 配套书籍：http://nlp.hankcs.com/book.php\n",
    "# 讨论答疑：https://bbs.hankcs.com/\n",
    "\n",
    "from pyhanlp import *\n",
    "\n",
    "CoNLLSentence = JClass('com.hankcs.hanlp.corpus.dependency.CoNll.CoNLLSentence')\n",
    "CoNLLWord = JClass('com.hankcs.hanlp.corpus.dependency.CoNll.CoNLLWord')\n",
    "IDependencyParser = JClass('com.hankcs.hanlp.dependency.IDependencyParser')\n",
    "KBeamArcEagerDependencyParser = JClass('com.hankcs.hanlp.dependency.perceptron.parser.KBeamArcEagerDependencyParser')\n",
    "\n",
    "\n",
    "def main():\n",
    "    parser = KBeamArcEagerDependencyParser()\n",
    "    tree = parser.parse(\"电池非常棒，机身不长，长的是待机，但是屏幕分辨率不高。\")\n",
    "    print(tree)\n",
    "    print(\"第一版\")\n",
    "    extactOpinion1(tree)\n",
    "    print(\"第二版\")\n",
    "    extactOpinion2(tree)\n",
    "    print(\"第三版\")\n",
    "    extactOpinion3(tree)\n",
    "\n",
    "\n",
    "def extactOpinion1(tree):\n",
    "    for word in tree.iterator():\n",
    "        if word.POSTAG == \"NN\" and word.DEPREL == \"nsubj\":\n",
    "            print(\"%s = %s\" % (word.LEMMA, word.HEAD.LEMMA))\n",
    "\n",
    "\n",
    "def extactOpinion2(tree):\n",
    "    for word in tree.iterator():\n",
    "        if word.POSTAG == \"NN\" and word.DEPREL == \"nsubj\":\n",
    "            if tree.findChildren(word.HEAD, \"neg\").isEmpty():\n",
    "                print(\"%s = %s\" % (word.LEMMA, word.HEAD.LEMMA))\n",
    "            else:\n",
    "                print(\"%s = 不%s\" % (word.LEMMA, word.HEAD.LEMMA))\n",
    "\n",
    "\n",
    "def extactOpinion3(tree):\n",
    "    for word in tree.iterator():\n",
    "        if word.POSTAG == \"NN\":\n",
    "            if word.DEPREL == \"nsubj\":  # ①属性\n",
    "\n",
    "                if tree.findChildren(word.HEAD, \"neg\").isEmpty():\n",
    "                    print(\"%s = %s\" % (word.LEMMA, word.HEAD.LEMMA))\n",
    "                else:\n",
    "                    print(\"%s = 不%s\" % (word.LEMMA, word.HEAD.LEMMA))\n",
    "            elif word.DEPREL == \"attr\":\n",
    "                top = tree.findChildren(word.HEAD, \"top\")  # ②主题\n",
    "\n",
    "                if not top.isEmpty():\n",
    "                    print(\"%s = %s\" % (word.LEMMA, top.get(0).LEMMA))\n",
    "\n",
    "\n",
    "if __name__ == '__main__':\n",
    "    main()"
   ],
   "metadata": {
    "collapsed": false,
    "pycharm": {
     "name": "#%%\n"
    }
   }
  },
  {
   "cell_type": "markdown",
   "source": [
    "## 第13章"
   ],
   "metadata": {
    "collapsed": false
   }
  },
  {
   "cell_type": "markdown",
   "source": [
    "### tests/book/ch13/demo_word2vec.py"
   ],
   "metadata": {
    "collapsed": false
   }
  },
  {
   "cell_type": "code",
   "execution_count": null,
   "outputs": [],
   "source": [
    "# Author: hankcs\n",
    "# Date: 2019-02-26 19:59\n",
    "# 《自然语言处理入门》13.3 word2vec\n",
    "# 配套书籍：http://nlp.hankcs.com/book.php\n",
    "# 讨论答疑：https://bbs.hankcs.com/\n",
    "\n",
    "from pyhanlp import *\n",
    "from tests.book.ch03.msr import msr_train\n",
    "from tests.test_utility import test_data_path\n",
    "\n",
    "IOUtil = JClass('com.hankcs.hanlp.corpus.io.IOUtil')\n",
    "DocVectorModel = JClass('com.hankcs.hanlp.mining.word2vec.DocVectorModel')\n",
    "Word2VecTrainer = JClass('com.hankcs.hanlp.mining.word2vec.Word2VecTrainer')\n",
    "WordVectorModel = JClass('com.hankcs.hanlp.mining.word2vec.WordVectorModel')\n",
    "\n",
    "# 演示词向量的训练与应用\n",
    "TRAIN_FILE_NAME = msr_train\n",
    "MODEL_FILE_NAME = os.path.join(test_data_path(), \"word2vec.txt\")\n",
    "\n",
    "\n",
    "def print_nearest(word, model):\n",
    "    print(\n",
    "        \"\\n                                                Word     \"\n",
    "        \"Cosine\\n------------------------------------------------------------------------\")\n",
    "    for entry in model.nearest(word):\n",
    "        print(\"%50s\\t\\t%f\" % (entry.getKey(), entry.getValue()))\n",
    "\n",
    "\n",
    "def print_nearest_document(document, documents, model):\n",
    "    print_header(document)\n",
    "    for entry in model.nearest(document):\n",
    "        print(\"%50s\\t\\t%f\" % (documents[entry.getKey()], entry.getValue()))\n",
    "\n",
    "\n",
    "def print_header(query):\n",
    "    print(\n",
    "        \"\\n%50s          Cosine\\n------------------------------------------------------------------------\" % (query))\n",
    "\n",
    "\n",
    "def train_or_load_model():\n",
    "    if not IOUtil.isFileExisted(MODEL_FILE_NAME):\n",
    "        if not IOUtil.isFileExisted(TRAIN_FILE_NAME):\n",
    "            raise RuntimeError(\"语料不存在，请阅读文档了解语料获取与格式：https://github.com/hankcs/HanLP/wiki/word2vec\")\n",
    "        trainerBuilder = Word2VecTrainer();\n",
    "        return trainerBuilder.train(TRAIN_FILE_NAME, MODEL_FILE_NAME)\n",
    "    return load_model()\n",
    "\n",
    "\n",
    "def load_model():\n",
    "    return WordVectorModel(MODEL_FILE_NAME)\n",
    "\n",
    "\n",
    "if __name__ == '__main__':\n",
    "    wordVectorModel = train_or_load_model()\n",
    "    print_nearest(\"上海\", wordVectorModel)\n",
    "    print_nearest(\"美丽\", wordVectorModel)\n",
    "    print_nearest(\"购买\", wordVectorModel)\n",
    "    print(wordVectorModel.similarity(\"上海\", \"广州\"))\n",
    "    print(wordVectorModel.analogy(\"日本\", \"自民党\", \"共和党\"))\n",
    "    #  文档向量\n",
    "    docVectorModel = DocVectorModel(wordVectorModel)\n",
    "    documents = [\"山东苹果丰收\",\n",
    "                 \"农民在江苏种水稻\",\n",
    "                 \"奥运会女排夺冠\",\n",
    "                 \"世界锦标赛胜出\",\n",
    "                 \"中国足球失败\", ]\n",
    "    print(docVectorModel.similarity(\"山东苹果丰收\", \"农民在江苏种水稻\"))\n",
    "    print(docVectorModel.similarity(\"山东苹果丰收\", \"世界锦标赛胜出\"))\n",
    "    print(docVectorModel.similarity(documents[0], documents[1]))\n",
    "    print(docVectorModel.similarity(documents[0], documents[4]))\n",
    "    for i, d in enumerate(documents):\n",
    "        docVectorModel.addDocument(i, documents[i])\n",
    "    print_nearest_document(\"体育\", documents, docVectorModel)\n",
    "    print_nearest_document(\"农业\", documents, docVectorModel)\n",
    "    print_nearest_document(\"我要看比赛\", documents, docVectorModel)\n",
    "    print_nearest_document(\"要不做饭吧\", documents, docVectorModel)"
   ],
   "metadata": {
    "collapsed": false,
    "pycharm": {
     "name": "#%%\n"
    }
   }
  },
  {
   "cell_type": "markdown",
   "source": [
    "### tests/book/ch13/demo_neual_parser.py"
   ],
   "metadata": {
    "collapsed": false
   }
  },
  {
   "cell_type": "code",
   "execution_count": null,
   "outputs": [],
   "source": [
    "# Author: hankcs\n",
    "# Date: 2019-02-26 22:58\n",
    "# 《自然语言处理入门》13.4 基于神经网络的高性能依存句法分析器\n",
    "# 配套书籍：http://nlp.hankcs.com/book.php\n",
    "# 讨论答疑：https://bbs.hankcs.com/\n",
    "from pyhanlp import *\n",
    "\n",
    "CoNLLSentence = JClass('com.hankcs.hanlp.corpus.dependency.CoNll.CoNLLSentence')\n",
    "CoNLLWord = JClass('com.hankcs.hanlp.corpus.dependency.CoNll.CoNLLWord')\n",
    "IDependencyParser = JClass('com.hankcs.hanlp.dependency.IDependencyParser')\n",
    "NeuralNetworkDependencyParser = JClass('com.hankcs.hanlp.dependency.nnparser.NeuralNetworkDependencyParser')\n",
    "\n",
    "if __name__ == '__main__':\n",
    "    parser = NeuralNetworkDependencyParser()\n",
    "    sentence = parser.parse(\"徐先生还具体帮助他确定了把画雄鹰、松鼠和麻雀作为主攻目标。\")\n",
    "    print(sentence)\n",
    "    for word in sentence.iterator():  # 通过dir()可以查看sentence的方法\n",
    "        print(\"%s --(%s)--> %s\" % (word.LEMMA, word.DEPREL, word.HEAD.LEMMA))\n",
    "    print()\n",
    "\n",
    "    # 也可以直接拿到数组，任意顺序或逆序遍历\n",
    "    word_array = sentence.getWordArray()\n",
    "    for word in word_array:\n",
    "        print(\"%s --(%s)--> %s\" % (word.LEMMA, word.DEPREL, word.HEAD.LEMMA))\n",
    "    print()\n",
    "\n",
    "    # 还可以直接遍历子树，从某棵子树的某个节点一路遍历到虚根\n",
    "    CoNLLWord = JClass(\"com.hankcs.hanlp.corpus.dependency.CoNll.CoNLLWord\")\n",
    "    head = word_array[12]\n",
    "    while head.HEAD:\n",
    "        head = head.HEAD\n",
    "        if (head == CoNLLWord.ROOT):\n",
    "            print(head.LEMMA)\n",
    "        else:\n",
    "            print(\"%s --(%s)--> \" % (head.LEMMA, head.DEPREL))"
   ],
   "metadata": {
    "collapsed": false,
    "pycharm": {
     "name": "#%%\n"
    }
   }
  },
  {
   "cell_type": "markdown",
   "source": [
    "### tests/book/ch13/sigmoid.py"
   ],
   "metadata": {
    "collapsed": false
   }
  },
  {
   "cell_type": "code",
   "execution_count": null,
   "outputs": [],
   "source": [
    "# Author: hankcs\n",
    "# Date: 2019-02-26 15:16\n",
    "# 《自然语言处理入门》13.2 深度学习与优势\n",
    "# 配套书籍：http://nlp.hankcs.com/book.php\n",
    "# 讨论答疑：https://bbs.hankcs.com/\n",
    "\n",
    "from matplotlib import pylab as plt\n",
    "import numpy as np\n",
    "\n",
    "sigmoid = lambda x: 1 / (1 + np.exp(-x))\n",
    "\n",
    "x = plt.linspace(-10, 10, 10000)\n",
    "\n",
    "plt.plot(x, sigmoid(x), 'b')\n",
    "plt.grid()\n",
    "\n",
    "plt.title(r'$\\sigma(x)=\\frac{1}{1+e^{-x}}$')\n",
    "plt.xlabel('x')\n",
    "plt.ylabel('y')\n",
    "plt.savefig('sigmoid.png')\n",
    "plt.show()"
   ],
   "metadata": {
    "collapsed": false,
    "pycharm": {
     "name": "#%%\n"
    }
   }
  }
 ],
 "metadata": {},
 "nbformat": 4,
 "nbformat_minor": 4
}